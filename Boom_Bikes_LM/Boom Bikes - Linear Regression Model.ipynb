{
 "cells": [
  {
   "cell_type": "markdown",
   "id": "9a300f9f",
   "metadata": {},
   "source": [
    "# Boom Bikes - Linear Regression Model"
   ]
  },
  {
   "cell_type": "markdown",
   "id": "5649c523",
   "metadata": {},
   "source": [
    "A bike-sharing system is a service in which bikes are made available for shared use to individuals on a short term basis for a price or free. Many bike share systems allow people to borrow a bike from a \"dock\" which is usually computer-controlled wherein the user enters the payment information, and the system unlocks it. This bike can then be returned to another dock belonging to the same system.\n",
    "\n",
    "#### Objective: The goal is to build a linear model to analyse the demand for shared bikes with the available independent variables. So that we can understand how exactly the demands vary with different features, based on the analysis, we can make the business strategy to meet the demand levels and meet the customer's expectations."
   ]
  },
  {
   "cell_type": "markdown",
   "id": "1744b4b7",
   "metadata": {},
   "source": [
    "## Importing Necessary Libraries"
   ]
  },
  {
   "cell_type": "code",
   "execution_count": 3,
   "id": "ac459bd5",
   "metadata": {},
   "outputs": [],
   "source": [
    "# Supress Warnings\n",
    "\n",
    "import warnings\n",
    "warnings.filterwarnings('ignore')"
   ]
  },
  {
   "cell_type": "code",
   "execution_count": 4,
   "id": "6cc0b2cc",
   "metadata": {},
   "outputs": [],
   "source": [
    "import pandas as pd\n",
    "import numpy as np\n",
    "import matplotlib.pyplot as plt \n",
    "import seaborn as sns"
   ]
  },
  {
   "cell_type": "markdown",
   "id": "a1cde532",
   "metadata": {},
   "source": [
    "# Step 1: Reading and Understanding the Data"
   ]
  },
  {
   "cell_type": "markdown",
   "id": "f01388b1",
   "metadata": {},
   "source": [
    "##  Importing data"
   ]
  },
  {
   "cell_type": "code",
   "execution_count": 5,
   "id": "37b9be49",
   "metadata": {},
   "outputs": [],
   "source": [
    "data=pd.read_csv('BoomBikes.csv')"
   ]
  },
  {
   "cell_type": "code",
   "execution_count": 6,
   "id": "fdf5e312",
   "metadata": {},
   "outputs": [
    {
     "data": {
      "text/html": [
       "<div>\n",
       "<style scoped>\n",
       "    .dataframe tbody tr th:only-of-type {\n",
       "        vertical-align: middle;\n",
       "    }\n",
       "\n",
       "    .dataframe tbody tr th {\n",
       "        vertical-align: top;\n",
       "    }\n",
       "\n",
       "    .dataframe thead th {\n",
       "        text-align: right;\n",
       "    }\n",
       "</style>\n",
       "<table border=\"1\" class=\"dataframe\">\n",
       "  <thead>\n",
       "    <tr style=\"text-align: right;\">\n",
       "      <th></th>\n",
       "      <th>instant</th>\n",
       "      <th>dteday</th>\n",
       "      <th>season</th>\n",
       "      <th>yr</th>\n",
       "      <th>mnth</th>\n",
       "      <th>holiday</th>\n",
       "      <th>weekday</th>\n",
       "      <th>workingday</th>\n",
       "      <th>weathersit</th>\n",
       "      <th>temp</th>\n",
       "      <th>atemp</th>\n",
       "      <th>hum</th>\n",
       "      <th>windspeed</th>\n",
       "      <th>casual</th>\n",
       "      <th>registered</th>\n",
       "      <th>cnt</th>\n",
       "    </tr>\n",
       "  </thead>\n",
       "  <tbody>\n",
       "    <tr>\n",
       "      <th>0</th>\n",
       "      <td>1</td>\n",
       "      <td>01-01-2018</td>\n",
       "      <td>1</td>\n",
       "      <td>0</td>\n",
       "      <td>1</td>\n",
       "      <td>0</td>\n",
       "      <td>1</td>\n",
       "      <td>1</td>\n",
       "      <td>2</td>\n",
       "      <td>14.110847</td>\n",
       "      <td>18.18125</td>\n",
       "      <td>80.5833</td>\n",
       "      <td>10.749882</td>\n",
       "      <td>331</td>\n",
       "      <td>654</td>\n",
       "      <td>985</td>\n",
       "    </tr>\n",
       "    <tr>\n",
       "      <th>1</th>\n",
       "      <td>2</td>\n",
       "      <td>02-01-2018</td>\n",
       "      <td>1</td>\n",
       "      <td>0</td>\n",
       "      <td>1</td>\n",
       "      <td>0</td>\n",
       "      <td>2</td>\n",
       "      <td>1</td>\n",
       "      <td>2</td>\n",
       "      <td>14.902598</td>\n",
       "      <td>17.68695</td>\n",
       "      <td>69.6087</td>\n",
       "      <td>16.652113</td>\n",
       "      <td>131</td>\n",
       "      <td>670</td>\n",
       "      <td>801</td>\n",
       "    </tr>\n",
       "    <tr>\n",
       "      <th>2</th>\n",
       "      <td>3</td>\n",
       "      <td>03-01-2018</td>\n",
       "      <td>1</td>\n",
       "      <td>0</td>\n",
       "      <td>1</td>\n",
       "      <td>0</td>\n",
       "      <td>3</td>\n",
       "      <td>1</td>\n",
       "      <td>1</td>\n",
       "      <td>8.050924</td>\n",
       "      <td>9.47025</td>\n",
       "      <td>43.7273</td>\n",
       "      <td>16.636703</td>\n",
       "      <td>120</td>\n",
       "      <td>1229</td>\n",
       "      <td>1349</td>\n",
       "    </tr>\n",
       "    <tr>\n",
       "      <th>3</th>\n",
       "      <td>4</td>\n",
       "      <td>04-01-2018</td>\n",
       "      <td>1</td>\n",
       "      <td>0</td>\n",
       "      <td>1</td>\n",
       "      <td>0</td>\n",
       "      <td>4</td>\n",
       "      <td>1</td>\n",
       "      <td>1</td>\n",
       "      <td>8.200000</td>\n",
       "      <td>10.60610</td>\n",
       "      <td>59.0435</td>\n",
       "      <td>10.739832</td>\n",
       "      <td>108</td>\n",
       "      <td>1454</td>\n",
       "      <td>1562</td>\n",
       "    </tr>\n",
       "    <tr>\n",
       "      <th>4</th>\n",
       "      <td>5</td>\n",
       "      <td>05-01-2018</td>\n",
       "      <td>1</td>\n",
       "      <td>0</td>\n",
       "      <td>1</td>\n",
       "      <td>0</td>\n",
       "      <td>5</td>\n",
       "      <td>1</td>\n",
       "      <td>1</td>\n",
       "      <td>9.305237</td>\n",
       "      <td>11.46350</td>\n",
       "      <td>43.6957</td>\n",
       "      <td>12.522300</td>\n",
       "      <td>82</td>\n",
       "      <td>1518</td>\n",
       "      <td>1600</td>\n",
       "    </tr>\n",
       "  </tbody>\n",
       "</table>\n",
       "</div>"
      ],
      "text/plain": [
       "   instant      dteday  season  yr  mnth  holiday  weekday  workingday  \\\n",
       "0        1  01-01-2018       1   0     1        0        1           1   \n",
       "1        2  02-01-2018       1   0     1        0        2           1   \n",
       "2        3  03-01-2018       1   0     1        0        3           1   \n",
       "3        4  04-01-2018       1   0     1        0        4           1   \n",
       "4        5  05-01-2018       1   0     1        0        5           1   \n",
       "\n",
       "   weathersit       temp     atemp      hum  windspeed  casual  registered  \\\n",
       "0           2  14.110847  18.18125  80.5833  10.749882     331         654   \n",
       "1           2  14.902598  17.68695  69.6087  16.652113     131         670   \n",
       "2           1   8.050924   9.47025  43.7273  16.636703     120        1229   \n",
       "3           1   8.200000  10.60610  59.0435  10.739832     108        1454   \n",
       "4           1   9.305237  11.46350  43.6957  12.522300      82        1518   \n",
       "\n",
       "    cnt  \n",
       "0   985  \n",
       "1   801  \n",
       "2  1349  \n",
       "3  1562  \n",
       "4  1600  "
      ]
     },
     "execution_count": 6,
     "metadata": {},
     "output_type": "execute_result"
    }
   ],
   "source": [
    "data.head()"
   ]
  },
  {
   "cell_type": "code",
   "execution_count": null,
   "id": "8174efb4",
   "metadata": {},
   "outputs": [],
   "source": []
  },
  {
   "cell_type": "markdown",
   "id": "d51e68a8",
   "metadata": {},
   "source": [
    "## Data Understanding"
   ]
  },
  {
   "cell_type": "markdown",
   "id": "115082f6",
   "metadata": {},
   "source": [
    "### Dataset characteristics\n",
    "BoomBikes.csv have the following fields:\n",
    "\n",
    "- instant: record index\n",
    "- dteday : date\n",
    "- season : season (1:spring, 2:summer, 3:fall, 4:winter)\n",
    "- yr : year (0: 2018, 1:2019)\n",
    "- mnth : month ( 1 to 12)\n",
    "- holiday : weather day is a holiday or not (extracted from http://dchr.dc.gov/page/holiday-schedule)\n",
    "- weekday : day of the week\n",
    "- workingday : if day is neither weekend nor holiday is 1, otherwise is 0.\n",
    "+ weathersit : \n",
    "    - 1: Clear, Few clouds, Partly cloudy, Partly cloudy\n",
    "    - 2: Mist + Cloudy, Mist + Broken clouds, Mist + Few clouds, Mist\n",
    "    - 3: Light Snow, Light Rain + Thunderstorm + Scattered clouds, Light Rain + Scattered clouds\n",
    "    - 4: Heavy Rain + Ice Pallets + Thunderstorm + Mist, Snow + Fog\n",
    "- temp : temperature in Celsius\n",
    "- atemp: feeling temperature in Celsius\n",
    "- hum: humidity\n",
    "- windspeed: wind speed\n",
    "- casual: count of casual users\n",
    "- registered: count of registered users\n",
    "- cnt: count of total rental bikes including both casual and registered"
   ]
  },
  {
   "cell_type": "markdown",
   "id": "1fcebc10",
   "metadata": {},
   "source": [
    "### Data Sanity Check"
   ]
  },
  {
   "cell_type": "code",
   "execution_count": 7,
   "id": "3c3b1d25",
   "metadata": {},
   "outputs": [
    {
     "data": {
      "text/plain": [
       "(730, 16)"
      ]
     },
     "execution_count": 7,
     "metadata": {},
     "output_type": "execute_result"
    }
   ],
   "source": [
    "data.shape"
   ]
  },
  {
   "cell_type": "code",
   "execution_count": 8,
   "id": "344a4b50",
   "metadata": {},
   "outputs": [
    {
     "name": "stdout",
     "output_type": "stream",
     "text": [
      "<class 'pandas.core.frame.DataFrame'>\n",
      "RangeIndex: 730 entries, 0 to 729\n",
      "Data columns (total 16 columns):\n",
      " #   Column      Non-Null Count  Dtype  \n",
      "---  ------      --------------  -----  \n",
      " 0   instant     730 non-null    int64  \n",
      " 1   dteday      730 non-null    object \n",
      " 2   season      730 non-null    int64  \n",
      " 3   yr          730 non-null    int64  \n",
      " 4   mnth        730 non-null    int64  \n",
      " 5   holiday     730 non-null    int64  \n",
      " 6   weekday     730 non-null    int64  \n",
      " 7   workingday  730 non-null    int64  \n",
      " 8   weathersit  730 non-null    int64  \n",
      " 9   temp        730 non-null    float64\n",
      " 10  atemp       730 non-null    float64\n",
      " 11  hum         730 non-null    float64\n",
      " 12  windspeed   730 non-null    float64\n",
      " 13  casual      730 non-null    int64  \n",
      " 14  registered  730 non-null    int64  \n",
      " 15  cnt         730 non-null    int64  \n",
      "dtypes: float64(4), int64(11), object(1)\n",
      "memory usage: 91.4+ KB\n"
     ]
    }
   ],
   "source": [
    "data.info()"
   ]
  },
  {
   "cell_type": "code",
   "execution_count": 9,
   "id": "6337f840",
   "metadata": {},
   "outputs": [
    {
     "data": {
      "text/html": [
       "<div>\n",
       "<style scoped>\n",
       "    .dataframe tbody tr th:only-of-type {\n",
       "        vertical-align: middle;\n",
       "    }\n",
       "\n",
       "    .dataframe tbody tr th {\n",
       "        vertical-align: top;\n",
       "    }\n",
       "\n",
       "    .dataframe thead th {\n",
       "        text-align: right;\n",
       "    }\n",
       "</style>\n",
       "<table border=\"1\" class=\"dataframe\">\n",
       "  <thead>\n",
       "    <tr style=\"text-align: right;\">\n",
       "      <th></th>\n",
       "      <th>instant</th>\n",
       "      <th>season</th>\n",
       "      <th>yr</th>\n",
       "      <th>mnth</th>\n",
       "      <th>holiday</th>\n",
       "      <th>weekday</th>\n",
       "      <th>workingday</th>\n",
       "      <th>weathersit</th>\n",
       "      <th>temp</th>\n",
       "      <th>atemp</th>\n",
       "      <th>hum</th>\n",
       "      <th>windspeed</th>\n",
       "      <th>casual</th>\n",
       "      <th>registered</th>\n",
       "      <th>cnt</th>\n",
       "    </tr>\n",
       "  </thead>\n",
       "  <tbody>\n",
       "    <tr>\n",
       "      <th>count</th>\n",
       "      <td>730.000000</td>\n",
       "      <td>730.000000</td>\n",
       "      <td>730.000000</td>\n",
       "      <td>730.000000</td>\n",
       "      <td>730.000000</td>\n",
       "      <td>730.000000</td>\n",
       "      <td>730.000000</td>\n",
       "      <td>730.000000</td>\n",
       "      <td>730.000000</td>\n",
       "      <td>730.000000</td>\n",
       "      <td>730.000000</td>\n",
       "      <td>730.000000</td>\n",
       "      <td>730.000000</td>\n",
       "      <td>730.000000</td>\n",
       "      <td>730.000000</td>\n",
       "    </tr>\n",
       "    <tr>\n",
       "      <th>mean</th>\n",
       "      <td>365.500000</td>\n",
       "      <td>2.498630</td>\n",
       "      <td>0.500000</td>\n",
       "      <td>6.526027</td>\n",
       "      <td>0.028767</td>\n",
       "      <td>2.995890</td>\n",
       "      <td>0.690411</td>\n",
       "      <td>1.394521</td>\n",
       "      <td>20.319259</td>\n",
       "      <td>23.726322</td>\n",
       "      <td>62.765175</td>\n",
       "      <td>12.763620</td>\n",
       "      <td>849.249315</td>\n",
       "      <td>3658.757534</td>\n",
       "      <td>4508.006849</td>\n",
       "    </tr>\n",
       "    <tr>\n",
       "      <th>std</th>\n",
       "      <td>210.877136</td>\n",
       "      <td>1.110184</td>\n",
       "      <td>0.500343</td>\n",
       "      <td>3.450215</td>\n",
       "      <td>0.167266</td>\n",
       "      <td>2.000339</td>\n",
       "      <td>0.462641</td>\n",
       "      <td>0.544807</td>\n",
       "      <td>7.506729</td>\n",
       "      <td>8.150308</td>\n",
       "      <td>14.237589</td>\n",
       "      <td>5.195841</td>\n",
       "      <td>686.479875</td>\n",
       "      <td>1559.758728</td>\n",
       "      <td>1936.011647</td>\n",
       "    </tr>\n",
       "    <tr>\n",
       "      <th>min</th>\n",
       "      <td>1.000000</td>\n",
       "      <td>1.000000</td>\n",
       "      <td>0.000000</td>\n",
       "      <td>1.000000</td>\n",
       "      <td>0.000000</td>\n",
       "      <td>0.000000</td>\n",
       "      <td>0.000000</td>\n",
       "      <td>1.000000</td>\n",
       "      <td>2.424346</td>\n",
       "      <td>3.953480</td>\n",
       "      <td>0.000000</td>\n",
       "      <td>1.500244</td>\n",
       "      <td>2.000000</td>\n",
       "      <td>20.000000</td>\n",
       "      <td>22.000000</td>\n",
       "    </tr>\n",
       "    <tr>\n",
       "      <th>25%</th>\n",
       "      <td>183.250000</td>\n",
       "      <td>2.000000</td>\n",
       "      <td>0.000000</td>\n",
       "      <td>4.000000</td>\n",
       "      <td>0.000000</td>\n",
       "      <td>1.000000</td>\n",
       "      <td>0.000000</td>\n",
       "      <td>1.000000</td>\n",
       "      <td>13.811885</td>\n",
       "      <td>16.889713</td>\n",
       "      <td>52.000000</td>\n",
       "      <td>9.041650</td>\n",
       "      <td>316.250000</td>\n",
       "      <td>2502.250000</td>\n",
       "      <td>3169.750000</td>\n",
       "    </tr>\n",
       "    <tr>\n",
       "      <th>50%</th>\n",
       "      <td>365.500000</td>\n",
       "      <td>3.000000</td>\n",
       "      <td>0.500000</td>\n",
       "      <td>7.000000</td>\n",
       "      <td>0.000000</td>\n",
       "      <td>3.000000</td>\n",
       "      <td>1.000000</td>\n",
       "      <td>1.000000</td>\n",
       "      <td>20.465826</td>\n",
       "      <td>24.368225</td>\n",
       "      <td>62.625000</td>\n",
       "      <td>12.125325</td>\n",
       "      <td>717.000000</td>\n",
       "      <td>3664.500000</td>\n",
       "      <td>4548.500000</td>\n",
       "    </tr>\n",
       "    <tr>\n",
       "      <th>75%</th>\n",
       "      <td>547.750000</td>\n",
       "      <td>3.000000</td>\n",
       "      <td>1.000000</td>\n",
       "      <td>10.000000</td>\n",
       "      <td>0.000000</td>\n",
       "      <td>5.000000</td>\n",
       "      <td>1.000000</td>\n",
       "      <td>2.000000</td>\n",
       "      <td>26.880615</td>\n",
       "      <td>30.445775</td>\n",
       "      <td>72.989575</td>\n",
       "      <td>15.625589</td>\n",
       "      <td>1096.500000</td>\n",
       "      <td>4783.250000</td>\n",
       "      <td>5966.000000</td>\n",
       "    </tr>\n",
       "    <tr>\n",
       "      <th>max</th>\n",
       "      <td>730.000000</td>\n",
       "      <td>4.000000</td>\n",
       "      <td>1.000000</td>\n",
       "      <td>12.000000</td>\n",
       "      <td>1.000000</td>\n",
       "      <td>6.000000</td>\n",
       "      <td>1.000000</td>\n",
       "      <td>3.000000</td>\n",
       "      <td>35.328347</td>\n",
       "      <td>42.044800</td>\n",
       "      <td>97.250000</td>\n",
       "      <td>34.000021</td>\n",
       "      <td>3410.000000</td>\n",
       "      <td>6946.000000</td>\n",
       "      <td>8714.000000</td>\n",
       "    </tr>\n",
       "  </tbody>\n",
       "</table>\n",
       "</div>"
      ],
      "text/plain": [
       "          instant      season          yr        mnth     holiday     weekday  \\\n",
       "count  730.000000  730.000000  730.000000  730.000000  730.000000  730.000000   \n",
       "mean   365.500000    2.498630    0.500000    6.526027    0.028767    2.995890   \n",
       "std    210.877136    1.110184    0.500343    3.450215    0.167266    2.000339   \n",
       "min      1.000000    1.000000    0.000000    1.000000    0.000000    0.000000   \n",
       "25%    183.250000    2.000000    0.000000    4.000000    0.000000    1.000000   \n",
       "50%    365.500000    3.000000    0.500000    7.000000    0.000000    3.000000   \n",
       "75%    547.750000    3.000000    1.000000   10.000000    0.000000    5.000000   \n",
       "max    730.000000    4.000000    1.000000   12.000000    1.000000    6.000000   \n",
       "\n",
       "       workingday  weathersit        temp       atemp         hum   windspeed  \\\n",
       "count  730.000000  730.000000  730.000000  730.000000  730.000000  730.000000   \n",
       "mean     0.690411    1.394521   20.319259   23.726322   62.765175   12.763620   \n",
       "std      0.462641    0.544807    7.506729    8.150308   14.237589    5.195841   \n",
       "min      0.000000    1.000000    2.424346    3.953480    0.000000    1.500244   \n",
       "25%      0.000000    1.000000   13.811885   16.889713   52.000000    9.041650   \n",
       "50%      1.000000    1.000000   20.465826   24.368225   62.625000   12.125325   \n",
       "75%      1.000000    2.000000   26.880615   30.445775   72.989575   15.625589   \n",
       "max      1.000000    3.000000   35.328347   42.044800   97.250000   34.000021   \n",
       "\n",
       "            casual   registered          cnt  \n",
       "count   730.000000   730.000000   730.000000  \n",
       "mean    849.249315  3658.757534  4508.006849  \n",
       "std     686.479875  1559.758728  1936.011647  \n",
       "min       2.000000    20.000000    22.000000  \n",
       "25%     316.250000  2502.250000  3169.750000  \n",
       "50%     717.000000  3664.500000  4548.500000  \n",
       "75%    1096.500000  4783.250000  5966.000000  \n",
       "max    3410.000000  6946.000000  8714.000000  "
      ]
     },
     "execution_count": 9,
     "metadata": {},
     "output_type": "execute_result"
    }
   ],
   "source": [
    "data.describe()"
   ]
  },
  {
   "cell_type": "markdown",
   "id": "77a13690",
   "metadata": {},
   "source": [
    "### Missing Value Check"
   ]
  },
  {
   "cell_type": "code",
   "execution_count": 10,
   "id": "cd024285",
   "metadata": {},
   "outputs": [
    {
     "data": {
      "text/plain": [
       "instant       0\n",
       "dteday        0\n",
       "season        0\n",
       "yr            0\n",
       "mnth          0\n",
       "holiday       0\n",
       "weekday       0\n",
       "workingday    0\n",
       "weathersit    0\n",
       "temp          0\n",
       "atemp         0\n",
       "hum           0\n",
       "windspeed     0\n",
       "casual        0\n",
       "registered    0\n",
       "cnt           0\n",
       "dtype: int64"
      ]
     },
     "execution_count": 10,
     "metadata": {},
     "output_type": "execute_result"
    }
   ],
   "source": [
    "data.isnull().sum()"
   ]
  },
  {
   "cell_type": "markdown",
   "id": "471b7f2a",
   "metadata": {},
   "source": [
    "No null values present in the dataset"
   ]
  },
  {
   "cell_type": "markdown",
   "id": "a68ff30b",
   "metadata": {},
   "source": [
    "### Check for Duplicates"
   ]
  },
  {
   "cell_type": "code",
   "execution_count": 11,
   "id": "7d8089fd",
   "metadata": {},
   "outputs": [
    {
     "data": {
      "text/plain": [
       "0"
      ]
     },
     "execution_count": 11,
     "metadata": {},
     "output_type": "execute_result"
    }
   ],
   "source": [
    "data.duplicated().sum()"
   ]
  },
  {
   "cell_type": "markdown",
   "id": "518c032c",
   "metadata": {},
   "source": [
    "There are no duplicates found"
   ]
  },
  {
   "cell_type": "markdown",
   "id": "2e9f7799",
   "metadata": {},
   "source": [
    "# Setp 2: Data Preparetion"
   ]
  },
  {
   "cell_type": "markdown",
   "id": "05327b86",
   "metadata": {},
   "source": [
    "## Coverting numerical values into categorical values "
   ]
  },
  {
   "cell_type": "markdown",
   "id": "f062d251",
   "metadata": {},
   "source": [
    "##### For 'season' column "
   ]
  },
  {
   "cell_type": "code",
   "execution_count": 12,
   "id": "e0bc5a23",
   "metadata": {},
   "outputs": [],
   "source": [
    "data['season']=data['season'].map({1:'spring', 2:'summer', 3:'fall', 4:'winter'})"
   ]
  },
  {
   "cell_type": "code",
   "execution_count": 13,
   "id": "6a858f2c",
   "metadata": {},
   "outputs": [
    {
     "data": {
      "text/plain": [
       "fall      188\n",
       "summer    184\n",
       "spring    180\n",
       "winter    178\n",
       "Name: season, dtype: int64"
      ]
     },
     "execution_count": 13,
     "metadata": {},
     "output_type": "execute_result"
    }
   ],
   "source": [
    "data['season'].value_counts()"
   ]
  },
  {
   "cell_type": "code",
   "execution_count": 14,
   "id": "b8fbe75e",
   "metadata": {},
   "outputs": [
    {
     "data": {
      "text/plain": [
       "730"
      ]
     },
     "execution_count": 14,
     "metadata": {},
     "output_type": "execute_result"
    }
   ],
   "source": [
    "data['season'].value_counts().sum()"
   ]
  },
  {
   "cell_type": "markdown",
   "id": "d18e9926",
   "metadata": {},
   "source": [
    "##### For 'weathersit' column "
   ]
  },
  {
   "cell_type": "code",
   "execution_count": 15,
   "id": "c2e24c42",
   "metadata": {},
   "outputs": [],
   "source": [
    "data['weathersit']=data['weathersit'].map({1: 'cloudy', \n",
    "                                           2: 'mist', \n",
    "                                           3: 'light Rain', \n",
    "                                           4: 'heavy Rain'})"
   ]
  },
  {
   "cell_type": "code",
   "execution_count": 16,
   "id": "17a9b7c0",
   "metadata": {},
   "outputs": [
    {
     "data": {
      "text/plain": [
       "cloudy        463\n",
       "mist          246\n",
       "light Rain     21\n",
       "Name: weathersit, dtype: int64"
      ]
     },
     "execution_count": 16,
     "metadata": {},
     "output_type": "execute_result"
    }
   ],
   "source": [
    "data['weathersit'].value_counts()"
   ]
  },
  {
   "cell_type": "code",
   "execution_count": 17,
   "id": "eacbd7e4",
   "metadata": {},
   "outputs": [
    {
     "data": {
      "text/plain": [
       "730"
      ]
     },
     "execution_count": 17,
     "metadata": {},
     "output_type": "execute_result"
    }
   ],
   "source": [
    "data['weathersit'].value_counts().sum()"
   ]
  },
  {
   "cell_type": "markdown",
   "id": "87aee904",
   "metadata": {},
   "source": [
    "##### For 'mnth' column"
   ]
  },
  {
   "cell_type": "code",
   "execution_count": 18,
   "id": "7b095b32",
   "metadata": {},
   "outputs": [],
   "source": [
    "data['mnth']=data['mnth'].map({1:'jan',2:'feb',3:'mar',4:'apr',5:'may',6:'jun',7:'jul',8:'aug',9:'sep',10:'oct',11:'nov',12:'dec'})"
   ]
  },
  {
   "cell_type": "code",
   "execution_count": 19,
   "id": "e075c970",
   "metadata": {
    "scrolled": true
   },
   "outputs": [
    {
     "data": {
      "text/plain": [
       "jan    62\n",
       "mar    62\n",
       "may    62\n",
       "jul    62\n",
       "aug    62\n",
       "oct    62\n",
       "dec    62\n",
       "apr    60\n",
       "jun    60\n",
       "sep    60\n",
       "nov    60\n",
       "feb    56\n",
       "Name: mnth, dtype: int64"
      ]
     },
     "execution_count": 19,
     "metadata": {},
     "output_type": "execute_result"
    }
   ],
   "source": [
    "data['mnth'].value_counts()"
   ]
  },
  {
   "cell_type": "code",
   "execution_count": 20,
   "id": "009e1e0b",
   "metadata": {},
   "outputs": [
    {
     "data": {
      "text/plain": [
       "730"
      ]
     },
     "execution_count": 20,
     "metadata": {},
     "output_type": "execute_result"
    }
   ],
   "source": [
    "data['mnth'].value_counts().sum()"
   ]
  },
  {
   "cell_type": "markdown",
   "id": "f123758d",
   "metadata": {},
   "source": [
    "##### For 'weekday' column"
   ]
  },
  {
   "cell_type": "code",
   "execution_count": 21,
   "id": "1c56b342",
   "metadata": {},
   "outputs": [],
   "source": [
    "data['weekday']=data['weekday'].map({0:'sun',1:'mon',2:'tue',3:'wed',4:'thu',5:'fri',6:'sat'})"
   ]
  },
  {
   "cell_type": "code",
   "execution_count": 22,
   "id": "1de6f707",
   "metadata": {},
   "outputs": [
    {
     "data": {
      "text/plain": [
       "mon    105\n",
       "tue    105\n",
       "wed    104\n",
       "thu    104\n",
       "fri    104\n",
       "sat    104\n",
       "sun    104\n",
       "Name: weekday, dtype: int64"
      ]
     },
     "execution_count": 22,
     "metadata": {},
     "output_type": "execute_result"
    }
   ],
   "source": [
    "data['weekday'].value_counts()"
   ]
  },
  {
   "cell_type": "code",
   "execution_count": 23,
   "id": "42e98863",
   "metadata": {
    "scrolled": true
   },
   "outputs": [
    {
     "data": {
      "text/plain": [
       "730"
      ]
     },
     "execution_count": 23,
     "metadata": {},
     "output_type": "execute_result"
    }
   ],
   "source": [
    "data['weekday'].value_counts().sum()"
   ]
  },
  {
   "cell_type": "markdown",
   "id": "aa4084ac",
   "metadata": {},
   "source": [
    "## Dropping columns which are not contributing much for Analysis"
   ]
  },
  {
   "cell_type": "markdown",
   "id": "e7d0526d",
   "metadata": {},
   "source": [
    "##### Droping coulmn \"instant\" as it is just a record index\n",
    "##### Droping coulmns \"casual\" and \"registered\" as these columns are having \"cnt\" data"
   ]
  },
  {
   "cell_type": "code",
   "execution_count": 24,
   "id": "8df613cb",
   "metadata": {},
   "outputs": [],
   "source": [
    "data=data.drop('instant', axis=1)"
   ]
  },
  {
   "cell_type": "code",
   "execution_count": 25,
   "id": "55ecd0cc",
   "metadata": {},
   "outputs": [],
   "source": [
    "data=data.drop('casual', axis=1)\n",
    "data=data.drop('registered', axis=1)"
   ]
  },
  {
   "cell_type": "code",
   "execution_count": 26,
   "id": "3cf74a67",
   "metadata": {},
   "outputs": [],
   "source": [
    "data=data.drop('dteday',axis=1)"
   ]
  },
  {
   "cell_type": "code",
   "execution_count": 27,
   "id": "297eb1c5",
   "metadata": {},
   "outputs": [
    {
     "data": {
      "text/html": [
       "<div>\n",
       "<style scoped>\n",
       "    .dataframe tbody tr th:only-of-type {\n",
       "        vertical-align: middle;\n",
       "    }\n",
       "\n",
       "    .dataframe tbody tr th {\n",
       "        vertical-align: top;\n",
       "    }\n",
       "\n",
       "    .dataframe thead th {\n",
       "        text-align: right;\n",
       "    }\n",
       "</style>\n",
       "<table border=\"1\" class=\"dataframe\">\n",
       "  <thead>\n",
       "    <tr style=\"text-align: right;\">\n",
       "      <th></th>\n",
       "      <th>season</th>\n",
       "      <th>yr</th>\n",
       "      <th>mnth</th>\n",
       "      <th>holiday</th>\n",
       "      <th>weekday</th>\n",
       "      <th>workingday</th>\n",
       "      <th>weathersit</th>\n",
       "      <th>temp</th>\n",
       "      <th>atemp</th>\n",
       "      <th>hum</th>\n",
       "      <th>windspeed</th>\n",
       "      <th>cnt</th>\n",
       "    </tr>\n",
       "  </thead>\n",
       "  <tbody>\n",
       "    <tr>\n",
       "      <th>0</th>\n",
       "      <td>spring</td>\n",
       "      <td>0</td>\n",
       "      <td>jan</td>\n",
       "      <td>0</td>\n",
       "      <td>mon</td>\n",
       "      <td>1</td>\n",
       "      <td>mist</td>\n",
       "      <td>14.110847</td>\n",
       "      <td>18.18125</td>\n",
       "      <td>80.5833</td>\n",
       "      <td>10.749882</td>\n",
       "      <td>985</td>\n",
       "    </tr>\n",
       "    <tr>\n",
       "      <th>1</th>\n",
       "      <td>spring</td>\n",
       "      <td>0</td>\n",
       "      <td>jan</td>\n",
       "      <td>0</td>\n",
       "      <td>tue</td>\n",
       "      <td>1</td>\n",
       "      <td>mist</td>\n",
       "      <td>14.902598</td>\n",
       "      <td>17.68695</td>\n",
       "      <td>69.6087</td>\n",
       "      <td>16.652113</td>\n",
       "      <td>801</td>\n",
       "    </tr>\n",
       "    <tr>\n",
       "      <th>2</th>\n",
       "      <td>spring</td>\n",
       "      <td>0</td>\n",
       "      <td>jan</td>\n",
       "      <td>0</td>\n",
       "      <td>wed</td>\n",
       "      <td>1</td>\n",
       "      <td>cloudy</td>\n",
       "      <td>8.050924</td>\n",
       "      <td>9.47025</td>\n",
       "      <td>43.7273</td>\n",
       "      <td>16.636703</td>\n",
       "      <td>1349</td>\n",
       "    </tr>\n",
       "    <tr>\n",
       "      <th>3</th>\n",
       "      <td>spring</td>\n",
       "      <td>0</td>\n",
       "      <td>jan</td>\n",
       "      <td>0</td>\n",
       "      <td>thu</td>\n",
       "      <td>1</td>\n",
       "      <td>cloudy</td>\n",
       "      <td>8.200000</td>\n",
       "      <td>10.60610</td>\n",
       "      <td>59.0435</td>\n",
       "      <td>10.739832</td>\n",
       "      <td>1562</td>\n",
       "    </tr>\n",
       "    <tr>\n",
       "      <th>4</th>\n",
       "      <td>spring</td>\n",
       "      <td>0</td>\n",
       "      <td>jan</td>\n",
       "      <td>0</td>\n",
       "      <td>fri</td>\n",
       "      <td>1</td>\n",
       "      <td>cloudy</td>\n",
       "      <td>9.305237</td>\n",
       "      <td>11.46350</td>\n",
       "      <td>43.6957</td>\n",
       "      <td>12.522300</td>\n",
       "      <td>1600</td>\n",
       "    </tr>\n",
       "  </tbody>\n",
       "</table>\n",
       "</div>"
      ],
      "text/plain": [
       "   season  yr mnth  holiday weekday  workingday weathersit       temp  \\\n",
       "0  spring   0  jan        0     mon           1       mist  14.110847   \n",
       "1  spring   0  jan        0     tue           1       mist  14.902598   \n",
       "2  spring   0  jan        0     wed           1     cloudy   8.050924   \n",
       "3  spring   0  jan        0     thu           1     cloudy   8.200000   \n",
       "4  spring   0  jan        0     fri           1     cloudy   9.305237   \n",
       "\n",
       "      atemp      hum  windspeed   cnt  \n",
       "0  18.18125  80.5833  10.749882   985  \n",
       "1  17.68695  69.6087  16.652113   801  \n",
       "2   9.47025  43.7273  16.636703  1349  \n",
       "3  10.60610  59.0435  10.739832  1562  \n",
       "4  11.46350  43.6957  12.522300  1600  "
      ]
     },
     "execution_count": 27,
     "metadata": {},
     "output_type": "execute_result"
    }
   ],
   "source": [
    "data.head()"
   ]
  },
  {
   "cell_type": "code",
   "execution_count": 28,
   "id": "e40a2643",
   "metadata": {},
   "outputs": [
    {
     "data": {
      "text/plain": [
       "(730, 12)"
      ]
     },
     "execution_count": 28,
     "metadata": {},
     "output_type": "execute_result"
    }
   ],
   "source": [
    "data.shape"
   ]
  },
  {
   "cell_type": "markdown",
   "id": "b9a92360",
   "metadata": {},
   "source": [
    "# Step 3: EDA"
   ]
  },
  {
   "cell_type": "markdown",
   "id": "b68d3fd8",
   "metadata": {},
   "source": [
    "##### Lets find unique values of each column so that we can easily bifurcate continous and categorical columns"
   ]
  },
  {
   "cell_type": "code",
   "execution_count": 29,
   "id": "125831b4",
   "metadata": {},
   "outputs": [
    {
     "data": {
      "text/plain": [
       "season          4\n",
       "yr              2\n",
       "mnth           12\n",
       "holiday         2\n",
       "weekday         7\n",
       "workingday      2\n",
       "weathersit      3\n",
       "temp          498\n",
       "atemp         689\n",
       "hum           594\n",
       "windspeed     649\n",
       "cnt           695\n",
       "dtype: int64"
      ]
     },
     "execution_count": 29,
     "metadata": {},
     "output_type": "execute_result"
    }
   ],
   "source": [
    "data.nunique()"
   ]
  },
  {
   "cell_type": "markdown",
   "id": "bd9a06ef",
   "metadata": {},
   "source": [
    "##### We will create the list of variable based on data types"
   ]
  },
  {
   "cell_type": "code",
   "execution_count": 30,
   "id": "900ccdb3",
   "metadata": {},
   "outputs": [],
   "source": [
    "# Columns which contains continues values\n",
    "cont_cols=['temp','atemp','hum','windspeed']\n",
    "\n",
    "# Columns which contains catagorical values\n",
    "cat_cols=['season','yr','mnth','holiday','weekday','workingday','weathersit']\n",
    "\n",
    "# target variable for the analysis\n",
    "target=['cnt']\n"
   ]
  },
  {
   "cell_type": "code",
   "execution_count": 31,
   "id": "8cc64751",
   "metadata": {},
   "outputs": [
    {
     "data": {
      "text/plain": [
       "12"
      ]
     },
     "execution_count": 31,
     "metadata": {},
     "output_type": "execute_result"
    }
   ],
   "source": [
    "# cheking the lenght\n",
    "len(cont_cols)+len(cat_cols)+len(target)"
   ]
  },
  {
   "cell_type": "markdown",
   "id": "fbcbed4b",
   "metadata": {},
   "source": [
    "## Univariate Analysis"
   ]
  },
  {
   "cell_type": "markdown",
   "id": "f61d1774",
   "metadata": {},
   "source": [
    "##### Let's conduct Univariate analysis  for making data interpretation and to understand how data is distributed in each column."
   ]
  },
  {
   "cell_type": "markdown",
   "id": "bfc7b3c7",
   "metadata": {},
   "source": [
    "##### For continues columns\n",
    "- Histogram "
   ]
  },
  {
   "cell_type": "code",
   "execution_count": 32,
   "id": "9a99cb78",
   "metadata": {
    "scrolled": true
   },
   "outputs": [
    {
     "data": {
      "image/png": "[encoded data removed]",
      "text/plain": [
       "<Figure size 432x288 with 1 Axes>"
      ]
     },
     "metadata": {
      "needs_background": "light"
     },
     "output_type": "display_data"
    },
    {
     "data": {
      "image/png": "[encoded data removed]",
      "text/plain": [
       "<Figure size 432x288 with 1 Axes>"
      ]
     },
     "metadata": {
      "needs_background": "light"
     },
     "output_type": "display_data"
    },
    {
     "data": {
      "image/png": "[encoded data removed]",
      "text/plain": [
       "<Figure size 432x288 with 1 Axes>"
      ]
     },
     "metadata": {
      "needs_background": "light"
     },
     "output_type": "display_data"
    },
    {
     "data": {
      "image/png": "[encoded data removed]",
      "text/plain": [
       "<Figure size 432x288 with 1 Axes>"
      ]
     },
     "metadata": {
      "needs_background": "light"
     },
     "output_type": "display_data"
    }
   ],
   "source": [
    "for i in cont_cols:\n",
    "    sns.histplot(data[i])\n",
    "    plt.show()"
   ]
  },
  {
   "cell_type": "markdown",
   "id": "06d333eb",
   "metadata": {},
   "source": [
    "##### From the above graphs we can see that all the Variables are well distributed"
   ]
  },
  {
   "cell_type": "markdown",
   "id": "92c2c333",
   "metadata": {},
   "source": [
    "- Boxplot"
   ]
  },
  {
   "cell_type": "code",
   "execution_count": 33,
   "id": "60e1b48b",
   "metadata": {
    "scrolled": true
   },
   "outputs": [
    {
     "data": {
      "image/png": "[encoded data removed]",
      "text/plain": [
       "<Figure size 432x288 with 1 Axes>"
      ]
     },
     "metadata": {
      "needs_background": "light"
     },
     "output_type": "display_data"
    },
    {
     "data": {
      "image/png": "[encoded data removed]",
      "text/plain": [
       "<Figure size 432x288 with 1 Axes>"
      ]
     },
     "metadata": {
      "needs_background": "light"
     },
     "output_type": "display_data"
    },
    {
     "data": {
      "image/png": "[encoded data removed]",
      "text/plain": [
       "<Figure size 432x288 with 1 Axes>"
      ]
     },
     "metadata": {
      "needs_background": "light"
     },
     "output_type": "display_data"
    },
    {
     "data": {
      "image/png": "[encoded data removed]",
      "text/plain": [
       "<Figure size 432x288 with 1 Axes>"
      ]
     },
     "metadata": {
      "needs_background": "light"
     },
     "output_type": "display_data"
    }
   ],
   "source": [
    "for i in cont_cols:\n",
    "    sns.boxplot(data[i])\n",
    "    plt.show()"
   ]
  },
  {
   "cell_type": "markdown",
   "id": "188ea1d3",
   "metadata": {},
   "source": [
    "##### From the  above boxplot  we can see that in variable 'temp' and 'atem' there are no outliers are found. And Variables 'hum' and ''windspeed' are having negligible Outliers"
   ]
  },
  {
   "cell_type": "markdown",
   "id": "69acc6e6",
   "metadata": {},
   "source": [
    "##### For categorical columns\n",
    "- Countplot"
   ]
  },
  {
   "cell_type": "code",
   "execution_count": 34,
   "id": "e46893ef",
   "metadata": {},
   "outputs": [
    {
     "data": {
      "image/png": "[encoded data removed]",
      "text/plain": [
       "<Figure size 432x288 with 1 Axes>"
      ]
     },
     "metadata": {
      "needs_background": "light"
     },
     "output_type": "display_data"
    },
    {
     "data": {
      "image/png": "[encoded data removed]",
      "text/plain": [
       "<Figure size 432x288 with 1 Axes>"
      ]
     },
     "metadata": {
      "needs_background": "light"
     },
     "output_type": "display_data"
    },
    {
     "data": {
      "image/png": "[encoded data removed]",
      "text/plain": [
       "<Figure size 432x288 with 1 Axes>"
      ]
     },
     "metadata": {
      "needs_background": "light"
     },
     "output_type": "display_data"
    },
    {
     "data": {
      "image/png": "[encoded data removed]",
      "text/plain": [
       "<Figure size 432x288 with 1 Axes>"
      ]
     },
     "metadata": {
      "needs_background": "light"
     },
     "output_type": "display_data"
    },
    {
     "data": {
      "image/png": "[encoded data removed]",
      "text/plain": [
       "<Figure size 432x288 with 1 Axes>"
      ]
     },
     "metadata": {
      "needs_background": "light"
     },
     "output_type": "display_data"
    },
    {
     "data": {
      "image/png": "[encoded data removed]",
      "text/plain": [
       "<Figure size 432x288 with 1 Axes>"
      ]
     },
     "metadata": {
      "needs_background": "light"
     },
     "output_type": "display_data"
    },
    {
     "data": {
      "image/png": "[encoded data removed]",
      "text/plain": [
       "<Figure size 432x288 with 1 Axes>"
      ]
     },
     "metadata": {
      "needs_background": "light"
     },
     "output_type": "display_data"
    }
   ],
   "source": [
    "for i in cat_cols:\n",
    "    sns.countplot(data[i])\n",
    "    plt.show()"
   ]
  },
  {
   "cell_type": "markdown",
   "id": "85148b60",
   "metadata": {},
   "source": [
    "##### From above Countplot graphs we can make following Observations\n",
    "- We can say from variable \"season\" graph that users used the rental bike more in Rainfall season compare to others.\n",
    "- We can say from variable \"yr\" graph that users used the rental bike in both year 2018 & 2019 are almost same.\n",
    "- We can say from variable \"mnth\" graph that users used the rental bike less in feb.\n",
    "- We can say from variable \"holiday\" graph that users used the rental bike at most during holidays.\n",
    "-  We can say from variable \"weekday\" graph that users used the rental bike more in Monday and Tuesday compare to other weekdays.\n",
    "- We can say from variable \"workingday\" graph that users used the rental bike more in holiday than workingday\n",
    "- We can say from variable \"weathersit\" graph that users used the rental bike more in cloudy weather compare to misty and light rain"
   ]
  },
  {
   "cell_type": "markdown",
   "id": "d4c0ba09",
   "metadata": {},
   "source": [
    "## Bivariate Analysis"
   ]
  },
  {
   "cell_type": "markdown",
   "id": "3a7218af",
   "metadata": {},
   "source": [
    "##### For continues columns\n",
    "- Pairplot"
   ]
  },
  {
   "cell_type": "code",
   "execution_count": 35,
   "id": "eb218eec",
   "metadata": {},
   "outputs": [
    {
     "data": {
      "text/plain": [
       "<seaborn.axisgrid.PairGrid at 0x272039e12b0>"
      ]
     },
     "execution_count": 35,
     "metadata": {},
     "output_type": "execute_result"
    },
    {
     "data": {
      "image/png": "[encoded data removed]",
      "text/plain": [
       "<Figure size 720x720 with 20 Axes>"
      ]
     },
     "metadata": {
      "needs_background": "light"
     },
     "output_type": "display_data"
    }
   ],
   "source": [
    "sns.pairplot(data[cont_cols])"
   ]
  },
  {
   "cell_type": "markdown",
   "id": "e5b569dc",
   "metadata": {},
   "source": [
    "- scatterplot"
   ]
  },
  {
   "cell_type": "code",
   "execution_count": 36,
   "id": "f04f1d12",
   "metadata": {
    "scrolled": true
   },
   "outputs": [
    {
     "data": {
      "image/png": "[encoded data removed]",
      "text/plain": [
       "<Figure size 432x288 with 1 Axes>"
      ]
     },
     "metadata": {
      "needs_background": "light"
     },
     "output_type": "display_data"
    },
    {
     "data": {
      "image/png": "[encoded data removed]",
      "text/plain": [
       "<Figure size 432x288 with 1 Axes>"
      ]
     },
     "metadata": {
      "needs_background": "light"
     },
     "output_type": "display_data"
    },
    {
     "data": {
      "image/png": "[encoded data removed]",
      "text/plain": [
       "<Figure size 432x288 with 1 Axes>"
      ]
     },
     "metadata": {
      "needs_background": "light"
     },
     "output_type": "display_data"
    },
    {
     "data": {
      "image/png": "[encoded data removed]",
      "text/plain": [
       "<Figure size 432x288 with 1 Axes>"
      ]
     },
     "metadata": {
      "needs_background": "light"
     },
     "output_type": "display_data"
    }
   ],
   "source": [
    "for i in cont_cols:\n",
    "    sns.scatterplot(data[i],data[\"cnt\"])\n",
    "    plt.show()"
   ]
  },
  {
   "cell_type": "markdown",
   "id": "13d2f576",
   "metadata": {},
   "source": [
    "##### From the above Scatterplots  (Target variable on Y -axis and Independent variables on X-axis) we can make following observations\n",
    "- temp and atemp are Positively correlated with cnt\n",
    "- humidity and windspeed are Negatively correlated with cnt"
   ]
  },
  {
   "cell_type": "markdown",
   "id": "5bf86863",
   "metadata": {},
   "source": [
    "##### For categorical columns\n",
    "- Barplot"
   ]
  },
  {
   "cell_type": "code",
   "execution_count": 37,
   "id": "ccb24379",
   "metadata": {
    "scrolled": true
   },
   "outputs": [
    {
     "data": {
      "image/png": "[encoded data removed]",
      "text/plain": [
       "<Figure size 432x288 with 1 Axes>"
      ]
     },
     "metadata": {
      "needs_background": "light"
     },
     "output_type": "display_data"
    },
    {
     "data": {
      "image/png": "[encoded data removed]",
      "text/plain": [
       "<Figure size 432x288 with 1 Axes>"
      ]
     },
     "metadata": {
      "needs_background": "light"
     },
     "output_type": "display_data"
    },
    {
     "data": {
      "image/png": "[encoded data removed]",
      "text/plain": [
       "<Figure size 432x288 with 1 Axes>"
      ]
     },
     "metadata": {
      "needs_background": "light"
     },
     "output_type": "display_data"
    },
    {
     "data": {
      "image/png": "[encoded data removed]",
      "text/plain": [
       "<Figure size 432x288 with 1 Axes>"
      ]
     },
     "metadata": {
      "needs_background": "light"
     },
     "output_type": "display_data"
    },
    {
     "data": {
      "image/png": "[encoded data removed]",
      "text/plain": [
       "<Figure size 432x288 with 1 Axes>"
      ]
     },
     "metadata": {
      "needs_background": "light"
     },
     "output_type": "display_data"
    },
    {
     "data": {
      "image/png": "[encoded data removed]",
      "text/plain": [
       "<Figure size 432x288 with 1 Axes>"
      ]
     },
     "metadata": {
      "needs_background": "light"
     },
     "output_type": "display_data"
    },
    {
     "data": {
      "image/png": "[encoded data removed]",
      "text/plain": [
       "<Figure size 432x288 with 1 Axes>"
      ]
     },
     "metadata": {
      "needs_background": "light"
     },
     "output_type": "display_data"
    }
   ],
   "source": [
    "for i in cat_cols:\n",
    "    sns.barplot(data[i],data[\"cnt\"],ci=None)\n",
    "    plt.show()"
   ]
  },
  {
   "cell_type": "markdown",
   "id": "f59dff64",
   "metadata": {},
   "source": [
    "##### From above Barplots we can make following Observations\n",
    "- We can say from variable \"season\" graph that users used the rental bike considerably in Rainfall season compare to others.\n",
    "- We can say from variable \"yr\" graph that users used the rental bike much higher in year 2019 compared to 2018.\n",
    "- We can say from variable \"mnth\" graph that users used the rental bike most in June,July,Aug and Sept(I.e. Rainy season).\n",
    "- We can say from variable \"holiday\" graph that users used the rental bike at most during holidays.\n",
    "- We can say from variable \"weekday\" graph that users used the rental bike more in Thursday and Sunday compare to other weekdays.\n",
    "- We can say from variable \"workingday\" graph that users used the rental bike more in holiday than workingday\n",
    "- We can say from variable \"weathersit\" graph that users used the rental bike more in cloudy weather compare to misty and light rain"
   ]
  },
  {
   "cell_type": "markdown",
   "id": "e809d917",
   "metadata": {},
   "source": [
    "- Boxplot"
   ]
  },
  {
   "cell_type": "code",
   "execution_count": 38,
   "id": "13f0fd1c",
   "metadata": {},
   "outputs": [
    {
     "data": {
      "image/png": "[encoded data removed]",
      "text/plain": [
       "<Figure size 432x288 with 1 Axes>"
      ]
     },
     "metadata": {
      "needs_background": "light"
     },
     "output_type": "display_data"
    },
    {
     "data": {
      "image/png": "[encoded data removed]",
      "text/plain": [
       "<Figure size 432x288 with 1 Axes>"
      ]
     },
     "metadata": {
      "needs_background": "light"
     },
     "output_type": "display_data"
    },
    {
     "data": {
      "image/png": "[encoded data removed]",
      "text/plain": [
       "<Figure size 432x288 with 1 Axes>"
      ]
     },
     "metadata": {
      "needs_background": "light"
     },
     "output_type": "display_data"
    },
    {
     "data": {
      "image/png": "[encoded data removed]",
      "text/plain": [
       "<Figure size 432x288 with 1 Axes>"
      ]
     },
     "metadata": {
      "needs_background": "light"
     },
     "output_type": "display_data"
    },
    {
     "data": {
      "image/png": "[encoded data removed]",
      "text/plain": [
       "<Figure size 432x288 with 1 Axes>"
      ]
     },
     "metadata": {
      "needs_background": "light"
     },
     "output_type": "display_data"
    },
    {
     "data": {
      "image/png": "[encoded data removed]",
      "text/plain": [
       "<Figure size 432x288 with 1 Axes>"
      ]
     },
     "metadata": {
      "needs_background": "light"
     },
     "output_type": "display_data"
    },
    {
     "data": {
      "image/png": "[encoded data removed]",
      "text/plain": [
       "<Figure size 432x288 with 1 Axes>"
      ]
     },
     "metadata": {
      "needs_background": "light"
     },
     "output_type": "display_data"
    }
   ],
   "source": [
    "for i in cat_cols:\n",
    "    sns.boxplot(data[i],data[\"cnt\"])\n",
    "    plt.show()"
   ]
  },
  {
   "cell_type": "markdown",
   "id": "7f342bd9",
   "metadata": {},
   "source": [
    "##### From above Boxplots we can make following Observations\n",
    "- We can say from variable \"season\" graph that the median value is high in Rainfall season as compare to others.\n",
    "- We can say from variable \"yr\" graph that the median value is high in year 2019 compared to 2018.\n",
    "- We can say from variable \"mnth\" graph that the median value is high in July & Sept compared other months.\n",
    "- We can say from variable \"holiday\" graph that the median value is high for holidays.\n",
    "- We can say from variable \"weekday\" graph that the median value is high for Thursday compare to other weekdays.\n",
    "- We can say from variable \"workingday\" graph that the median value is high during holiday than workingday\n",
    "- We can say from variable \"weathersit\" graph that the median value is high in cloudy weather compare to misty and light rain"
   ]
  },
  {
   "cell_type": "markdown",
   "id": "32b8c30b",
   "metadata": {},
   "source": [
    "- Heatmap"
   ]
  },
  {
   "cell_type": "code",
   "execution_count": 39,
   "id": "aabd0cfb",
   "metadata": {},
   "outputs": [
    {
     "data": {
      "text/plain": [
       "<AxesSubplot:>"
      ]
     },
     "execution_count": 39,
     "metadata": {},
     "output_type": "execute_result"
    },
    {
     "data": {
      "image/png": "[encoded data removed]",
      "text/plain": [
       "<Figure size 864x432 with 2 Axes>"
      ]
     },
     "metadata": {
      "needs_background": "light"
     },
     "output_type": "display_data"
    }
   ],
   "source": [
    "plt.figure(figsize=(12,6))\n",
    "sns.heatmap(data.corr(),annot=True,cmap=\"YlGnBu\",)"
   ]
  },
  {
   "cell_type": "markdown",
   "id": "161edbdc",
   "metadata": {},
   "source": [
    "- From the correlation plot we can see Very high positive correlation between atemp and temp i.e. 0.99 and also they are correlated moderately positive with target variable \"cnt\""
   ]
  },
  {
   "cell_type": "markdown",
   "id": "35b1b3cb",
   "metadata": {},
   "source": [
    "# Step 4: Dummy Variable"
   ]
  },
  {
   "cell_type": "markdown",
   "id": "f0993c9b",
   "metadata": {},
   "source": [
    "##### Dummy Variable Creation for categorical columns which are having more than two variables."
   ]
  },
  {
   "cell_type": "code",
   "execution_count": 40,
   "id": "bf40764c",
   "metadata": {},
   "outputs": [
    {
     "data": {
      "text/plain": [
       "['season', 'yr', 'mnth', 'holiday', 'weekday', 'workingday', 'weathersit']"
      ]
     },
     "execution_count": 40,
     "metadata": {},
     "output_type": "execute_result"
    }
   ],
   "source": [
    "cat_cols"
   ]
  },
  {
   "cell_type": "code",
   "execution_count": 41,
   "id": "5c002034",
   "metadata": {
    "scrolled": true
   },
   "outputs": [
    {
     "data": {
      "text/plain": [
       "season         4\n",
       "yr             2\n",
       "mnth          12\n",
       "holiday        2\n",
       "weekday        7\n",
       "workingday     2\n",
       "weathersit     3\n",
       "dtype: int64"
      ]
     },
     "execution_count": 41,
     "metadata": {},
     "output_type": "execute_result"
    }
   ],
   "source": [
    "data[cat_cols].nunique()"
   ]
  },
  {
   "cell_type": "code",
   "execution_count": 42,
   "id": "40af813c",
   "metadata": {},
   "outputs": [],
   "source": [
    "# For season\n",
    "season_dummy=pd.get_dummies(data['season'],drop_first=True)\n",
    "\n",
    "# For mnth\n",
    "mnth_dummy=pd.get_dummies(data['mnth'],drop_first=True,)\n",
    "\n",
    "# For weekday\n",
    "weekday_dummy=pd.get_dummies(data['weekday'],drop_first=True,)\n",
    "\n",
    "# For weathersit\n",
    "weathersit_dummy=pd.get_dummies(data['weathersit'],drop_first=True,)"
   ]
  },
  {
   "cell_type": "code",
   "execution_count": 43,
   "id": "8bfd410c",
   "metadata": {},
   "outputs": [],
   "source": [
    "# Adding created dummy variables to the original dataset.\n",
    "\n",
    "data=pd.concat([data,season_dummy,weathersit_dummy,mnth_dummy,weekday_dummy ],axis=1)\n"
   ]
  },
  {
   "cell_type": "code",
   "execution_count": 44,
   "id": "c815b065",
   "metadata": {},
   "outputs": [],
   "source": [
    "# Dropping original columns- 'season', 'weathersit', 'mnth', and 'weekday'\n",
    "\n",
    "data.drop('season', axis=1,inplace=True)\n",
    "data.drop('mnth', axis=1,inplace=True)\n",
    "data.drop('weekday', axis=1,inplace=True)\n",
    "data.drop('weathersit', axis=1,inplace=True)"
   ]
  },
  {
   "cell_type": "code",
   "execution_count": 45,
   "id": "213cae22",
   "metadata": {},
   "outputs": [
    {
     "data": {
      "text/html": [
       "<div>\n",
       "<style scoped>\n",
       "    .dataframe tbody tr th:only-of-type {\n",
       "        vertical-align: middle;\n",
       "    }\n",
       "\n",
       "    .dataframe tbody tr th {\n",
       "        vertical-align: top;\n",
       "    }\n",
       "\n",
       "    .dataframe thead th {\n",
       "        text-align: right;\n",
       "    }\n",
       "</style>\n",
       "<table border=\"1\" class=\"dataframe\">\n",
       "  <thead>\n",
       "    <tr style=\"text-align: right;\">\n",
       "      <th></th>\n",
       "      <th>yr</th>\n",
       "      <th>holiday</th>\n",
       "      <th>workingday</th>\n",
       "      <th>temp</th>\n",
       "      <th>atemp</th>\n",
       "      <th>hum</th>\n",
       "      <th>windspeed</th>\n",
       "      <th>cnt</th>\n",
       "      <th>spring</th>\n",
       "      <th>summer</th>\n",
       "      <th>...</th>\n",
       "      <th>may</th>\n",
       "      <th>nov</th>\n",
       "      <th>oct</th>\n",
       "      <th>sep</th>\n",
       "      <th>mon</th>\n",
       "      <th>sat</th>\n",
       "      <th>sun</th>\n",
       "      <th>thu</th>\n",
       "      <th>tue</th>\n",
       "      <th>wed</th>\n",
       "    </tr>\n",
       "  </thead>\n",
       "  <tbody>\n",
       "    <tr>\n",
       "      <th>0</th>\n",
       "      <td>0</td>\n",
       "      <td>0</td>\n",
       "      <td>1</td>\n",
       "      <td>14.110847</td>\n",
       "      <td>18.18125</td>\n",
       "      <td>80.5833</td>\n",
       "      <td>10.749882</td>\n",
       "      <td>985</td>\n",
       "      <td>1</td>\n",
       "      <td>0</td>\n",
       "      <td>...</td>\n",
       "      <td>0</td>\n",
       "      <td>0</td>\n",
       "      <td>0</td>\n",
       "      <td>0</td>\n",
       "      <td>1</td>\n",
       "      <td>0</td>\n",
       "      <td>0</td>\n",
       "      <td>0</td>\n",
       "      <td>0</td>\n",
       "      <td>0</td>\n",
       "    </tr>\n",
       "    <tr>\n",
       "      <th>1</th>\n",
       "      <td>0</td>\n",
       "      <td>0</td>\n",
       "      <td>1</td>\n",
       "      <td>14.902598</td>\n",
       "      <td>17.68695</td>\n",
       "      <td>69.6087</td>\n",
       "      <td>16.652113</td>\n",
       "      <td>801</td>\n",
       "      <td>1</td>\n",
       "      <td>0</td>\n",
       "      <td>...</td>\n",
       "      <td>0</td>\n",
       "      <td>0</td>\n",
       "      <td>0</td>\n",
       "      <td>0</td>\n",
       "      <td>0</td>\n",
       "      <td>0</td>\n",
       "      <td>0</td>\n",
       "      <td>0</td>\n",
       "      <td>1</td>\n",
       "      <td>0</td>\n",
       "    </tr>\n",
       "    <tr>\n",
       "      <th>2</th>\n",
       "      <td>0</td>\n",
       "      <td>0</td>\n",
       "      <td>1</td>\n",
       "      <td>8.050924</td>\n",
       "      <td>9.47025</td>\n",
       "      <td>43.7273</td>\n",
       "      <td>16.636703</td>\n",
       "      <td>1349</td>\n",
       "      <td>1</td>\n",
       "      <td>0</td>\n",
       "      <td>...</td>\n",
       "      <td>0</td>\n",
       "      <td>0</td>\n",
       "      <td>0</td>\n",
       "      <td>0</td>\n",
       "      <td>0</td>\n",
       "      <td>0</td>\n",
       "      <td>0</td>\n",
       "      <td>0</td>\n",
       "      <td>0</td>\n",
       "      <td>1</td>\n",
       "    </tr>\n",
       "    <tr>\n",
       "      <th>3</th>\n",
       "      <td>0</td>\n",
       "      <td>0</td>\n",
       "      <td>1</td>\n",
       "      <td>8.200000</td>\n",
       "      <td>10.60610</td>\n",
       "      <td>59.0435</td>\n",
       "      <td>10.739832</td>\n",
       "      <td>1562</td>\n",
       "      <td>1</td>\n",
       "      <td>0</td>\n",
       "      <td>...</td>\n",
       "      <td>0</td>\n",
       "      <td>0</td>\n",
       "      <td>0</td>\n",
       "      <td>0</td>\n",
       "      <td>0</td>\n",
       "      <td>0</td>\n",
       "      <td>0</td>\n",
       "      <td>1</td>\n",
       "      <td>0</td>\n",
       "      <td>0</td>\n",
       "    </tr>\n",
       "    <tr>\n",
       "      <th>4</th>\n",
       "      <td>0</td>\n",
       "      <td>0</td>\n",
       "      <td>1</td>\n",
       "      <td>9.305237</td>\n",
       "      <td>11.46350</td>\n",
       "      <td>43.6957</td>\n",
       "      <td>12.522300</td>\n",
       "      <td>1600</td>\n",
       "      <td>1</td>\n",
       "      <td>0</td>\n",
       "      <td>...</td>\n",
       "      <td>0</td>\n",
       "      <td>0</td>\n",
       "      <td>0</td>\n",
       "      <td>0</td>\n",
       "      <td>0</td>\n",
       "      <td>0</td>\n",
       "      <td>0</td>\n",
       "      <td>0</td>\n",
       "      <td>0</td>\n",
       "      <td>0</td>\n",
       "    </tr>\n",
       "  </tbody>\n",
       "</table>\n",
       "<p>5 rows × 30 columns</p>\n",
       "</div>"
      ],
      "text/plain": [
       "   yr  holiday  workingday       temp     atemp      hum  windspeed   cnt  \\\n",
       "0   0        0           1  14.110847  18.18125  80.5833  10.749882   985   \n",
       "1   0        0           1  14.902598  17.68695  69.6087  16.652113   801   \n",
       "2   0        0           1   8.050924   9.47025  43.7273  16.636703  1349   \n",
       "3   0        0           1   8.200000  10.60610  59.0435  10.739832  1562   \n",
       "4   0        0           1   9.305237  11.46350  43.6957  12.522300  1600   \n",
       "\n",
       "   spring  summer  ...  may  nov  oct  sep  mon  sat  sun  thu  tue  wed  \n",
       "0       1       0  ...    0    0    0    0    1    0    0    0    0    0  \n",
       "1       1       0  ...    0    0    0    0    0    0    0    0    1    0  \n",
       "2       1       0  ...    0    0    0    0    0    0    0    0    0    1  \n",
       "3       1       0  ...    0    0    0    0    0    0    0    1    0    0  \n",
       "4       1       0  ...    0    0    0    0    0    0    0    0    0    0  \n",
       "\n",
       "[5 rows x 30 columns]"
      ]
     },
     "execution_count": 45,
     "metadata": {},
     "output_type": "execute_result"
    }
   ],
   "source": [
    "data.head()"
   ]
  },
  {
   "cell_type": "code",
   "execution_count": 46,
   "id": "536c039a",
   "metadata": {},
   "outputs": [
    {
     "data": {
      "text/plain": [
       "(730, 30)"
      ]
     },
     "execution_count": 46,
     "metadata": {},
     "output_type": "execute_result"
    }
   ],
   "source": [
    "data.shape"
   ]
  },
  {
   "cell_type": "code",
   "execution_count": 47,
   "id": "7688cd5c",
   "metadata": {
    "scrolled": true
   },
   "outputs": [
    {
     "name": "stdout",
     "output_type": "stream",
     "text": [
      "<class 'pandas.core.frame.DataFrame'>\n",
      "RangeIndex: 730 entries, 0 to 729\n",
      "Data columns (total 30 columns):\n",
      " #   Column      Non-Null Count  Dtype  \n",
      "---  ------      --------------  -----  \n",
      " 0   yr          730 non-null    int64  \n",
      " 1   holiday     730 non-null    int64  \n",
      " 2   workingday  730 non-null    int64  \n",
      " 3   temp        730 non-null    float64\n",
      " 4   atemp       730 non-null    float64\n",
      " 5   hum         730 non-null    float64\n",
      " 6   windspeed   730 non-null    float64\n",
      " 7   cnt         730 non-null    int64  \n",
      " 8   spring      730 non-null    uint8  \n",
      " 9   summer      730 non-null    uint8  \n",
      " 10  winter      730 non-null    uint8  \n",
      " 11  light Rain  730 non-null    uint8  \n",
      " 12  mist        730 non-null    uint8  \n",
      " 13  aug         730 non-null    uint8  \n",
      " 14  dec         730 non-null    uint8  \n",
      " 15  feb         730 non-null    uint8  \n",
      " 16  jan         730 non-null    uint8  \n",
      " 17  jul         730 non-null    uint8  \n",
      " 18  jun         730 non-null    uint8  \n",
      " 19  mar         730 non-null    uint8  \n",
      " 20  may         730 non-null    uint8  \n",
      " 21  nov         730 non-null    uint8  \n",
      " 22  oct         730 non-null    uint8  \n",
      " 23  sep         730 non-null    uint8  \n",
      " 24  mon         730 non-null    uint8  \n",
      " 25  sat         730 non-null    uint8  \n",
      " 26  sun         730 non-null    uint8  \n",
      " 27  thu         730 non-null    uint8  \n",
      " 28  tue         730 non-null    uint8  \n",
      " 29  wed         730 non-null    uint8  \n",
      "dtypes: float64(4), int64(4), uint8(22)\n",
      "memory usage: 61.4 KB\n"
     ]
    }
   ],
   "source": [
    "data.info()"
   ]
  },
  {
   "cell_type": "markdown",
   "id": "b82bd432",
   "metadata": {},
   "source": [
    "# Step 5: Splitting the Data into Training and Testing Sets"
   ]
  },
  {
   "cell_type": "code",
   "execution_count": 48,
   "id": "0edb422f",
   "metadata": {},
   "outputs": [],
   "source": [
    "# importing sklearn library for splitting data into test and train sets.\n",
    "from sklearn.model_selection import train_test_split"
   ]
  },
  {
   "cell_type": "code",
   "execution_count": 49,
   "id": "bd7f93fd",
   "metadata": {},
   "outputs": [],
   "source": [
    "np.random.seed(0)\n",
    "df_train, df_test=train_test_split(data, test_size=0.3, train_size=0.7, random_state=100)"
   ]
  },
  {
   "cell_type": "code",
   "execution_count": 50,
   "id": "b7df9f81",
   "metadata": {
    "scrolled": true
   },
   "outputs": [
    {
     "name": "stdout",
     "output_type": "stream",
     "text": [
      "shape of train set: (510, 30), \t shape of test set: (219, 30)\n"
     ]
    }
   ],
   "source": [
    "print(f'shape of train set: {df_train.shape}, \\t shape of test set: {df_test.shape}')"
   ]
  },
  {
   "cell_type": "markdown",
   "id": "221cb324",
   "metadata": {},
   "source": [
    "# Step 6: Rescaling the Feactures using MinMax Scaling"
   ]
  },
  {
   "cell_type": "code",
   "execution_count": 51,
   "id": "ac5b4c20",
   "metadata": {},
   "outputs": [],
   "source": [
    "# import MinMaxScalar\n",
    "from sklearn.preprocessing import MinMaxScaler"
   ]
  },
  {
   "cell_type": "code",
   "execution_count": 52,
   "id": "828e0058",
   "metadata": {},
   "outputs": [],
   "source": [
    "scaler=MinMaxScaler()"
   ]
  },
  {
   "cell_type": "code",
   "execution_count": 53,
   "id": "f9907a64",
   "metadata": {},
   "outputs": [],
   "source": [
    "var=['temp','atemp','hum','windspeed','cnt']\n",
    "\n",
    "# For train set\n",
    "df_train[var]=scaler.fit_transform(df_train[var])\n",
    "\n",
    "# For test set\n",
    "df_test[var]=scaler.fit_transform(df_test[var])"
   ]
  },
  {
   "cell_type": "code",
   "execution_count": 54,
   "id": "66dcd53a",
   "metadata": {},
   "outputs": [
    {
     "data": {
      "text/html": [
       "<div>\n",
       "<style scoped>\n",
       "    .dataframe tbody tr th:only-of-type {\n",
       "        vertical-align: middle;\n",
       "    }\n",
       "\n",
       "    .dataframe tbody tr th {\n",
       "        vertical-align: top;\n",
       "    }\n",
       "\n",
       "    .dataframe thead th {\n",
       "        text-align: right;\n",
       "    }\n",
       "</style>\n",
       "<table border=\"1\" class=\"dataframe\">\n",
       "  <thead>\n",
       "    <tr style=\"text-align: right;\">\n",
       "      <th></th>\n",
       "      <th>yr</th>\n",
       "      <th>holiday</th>\n",
       "      <th>workingday</th>\n",
       "      <th>temp</th>\n",
       "      <th>atemp</th>\n",
       "      <th>hum</th>\n",
       "      <th>windspeed</th>\n",
       "      <th>cnt</th>\n",
       "      <th>spring</th>\n",
       "      <th>summer</th>\n",
       "      <th>...</th>\n",
       "      <th>may</th>\n",
       "      <th>nov</th>\n",
       "      <th>oct</th>\n",
       "      <th>sep</th>\n",
       "      <th>mon</th>\n",
       "      <th>sat</th>\n",
       "      <th>sun</th>\n",
       "      <th>thu</th>\n",
       "      <th>tue</th>\n",
       "      <th>wed</th>\n",
       "    </tr>\n",
       "  </thead>\n",
       "  <tbody>\n",
       "    <tr>\n",
       "      <th>653</th>\n",
       "      <td>1</td>\n",
       "      <td>0</td>\n",
       "      <td>1</td>\n",
       "      <td>0.509887</td>\n",
       "      <td>0.501133</td>\n",
       "      <td>0.575354</td>\n",
       "      <td>0.300794</td>\n",
       "      <td>0.864243</td>\n",
       "      <td>0</td>\n",
       "      <td>0</td>\n",
       "      <td>...</td>\n",
       "      <td>0</td>\n",
       "      <td>0</td>\n",
       "      <td>1</td>\n",
       "      <td>0</td>\n",
       "      <td>0</td>\n",
       "      <td>0</td>\n",
       "      <td>0</td>\n",
       "      <td>0</td>\n",
       "      <td>0</td>\n",
       "      <td>1</td>\n",
       "    </tr>\n",
       "    <tr>\n",
       "      <th>576</th>\n",
       "      <td>1</td>\n",
       "      <td>0</td>\n",
       "      <td>1</td>\n",
       "      <td>0.815169</td>\n",
       "      <td>0.766351</td>\n",
       "      <td>0.725633</td>\n",
       "      <td>0.264686</td>\n",
       "      <td>0.827658</td>\n",
       "      <td>0</td>\n",
       "      <td>0</td>\n",
       "      <td>...</td>\n",
       "      <td>0</td>\n",
       "      <td>0</td>\n",
       "      <td>0</td>\n",
       "      <td>0</td>\n",
       "      <td>0</td>\n",
       "      <td>0</td>\n",
       "      <td>0</td>\n",
       "      <td>0</td>\n",
       "      <td>0</td>\n",
       "      <td>1</td>\n",
       "    </tr>\n",
       "    <tr>\n",
       "      <th>426</th>\n",
       "      <td>1</td>\n",
       "      <td>0</td>\n",
       "      <td>0</td>\n",
       "      <td>0.442393</td>\n",
       "      <td>0.438975</td>\n",
       "      <td>0.640189</td>\n",
       "      <td>0.255342</td>\n",
       "      <td>0.465255</td>\n",
       "      <td>1</td>\n",
       "      <td>0</td>\n",
       "      <td>...</td>\n",
       "      <td>0</td>\n",
       "      <td>0</td>\n",
       "      <td>0</td>\n",
       "      <td>0</td>\n",
       "      <td>0</td>\n",
       "      <td>0</td>\n",
       "      <td>1</td>\n",
       "      <td>0</td>\n",
       "      <td>0</td>\n",
       "      <td>0</td>\n",
       "    </tr>\n",
       "    <tr>\n",
       "      <th>728</th>\n",
       "      <td>1</td>\n",
       "      <td>0</td>\n",
       "      <td>1</td>\n",
       "      <td>0.245101</td>\n",
       "      <td>0.200348</td>\n",
       "      <td>0.498067</td>\n",
       "      <td>0.663106</td>\n",
       "      <td>0.204096</td>\n",
       "      <td>1</td>\n",
       "      <td>0</td>\n",
       "      <td>...</td>\n",
       "      <td>0</td>\n",
       "      <td>0</td>\n",
       "      <td>0</td>\n",
       "      <td>0</td>\n",
       "      <td>1</td>\n",
       "      <td>0</td>\n",
       "      <td>0</td>\n",
       "      <td>0</td>\n",
       "      <td>0</td>\n",
       "      <td>0</td>\n",
       "    </tr>\n",
       "    <tr>\n",
       "      <th>482</th>\n",
       "      <td>1</td>\n",
       "      <td>0</td>\n",
       "      <td>0</td>\n",
       "      <td>0.395666</td>\n",
       "      <td>0.391735</td>\n",
       "      <td>0.504508</td>\n",
       "      <td>0.188475</td>\n",
       "      <td>0.482973</td>\n",
       "      <td>0</td>\n",
       "      <td>1</td>\n",
       "      <td>...</td>\n",
       "      <td>0</td>\n",
       "      <td>0</td>\n",
       "      <td>0</td>\n",
       "      <td>0</td>\n",
       "      <td>0</td>\n",
       "      <td>0</td>\n",
       "      <td>1</td>\n",
       "      <td>0</td>\n",
       "      <td>0</td>\n",
       "      <td>0</td>\n",
       "    </tr>\n",
       "  </tbody>\n",
       "</table>\n",
       "<p>5 rows × 30 columns</p>\n",
       "</div>"
      ],
      "text/plain": [
       "     yr  holiday  workingday      temp     atemp       hum  windspeed  \\\n",
       "653   1        0           1  0.509887  0.501133  0.575354   0.300794   \n",
       "576   1        0           1  0.815169  0.766351  0.725633   0.264686   \n",
       "426   1        0           0  0.442393  0.438975  0.640189   0.255342   \n",
       "728   1        0           1  0.245101  0.200348  0.498067   0.663106   \n",
       "482   1        0           0  0.395666  0.391735  0.504508   0.188475   \n",
       "\n",
       "          cnt  spring  summer  ...  may  nov  oct  sep  mon  sat  sun  thu  \\\n",
       "653  0.864243       0       0  ...    0    0    1    0    0    0    0    0   \n",
       "576  0.827658       0       0  ...    0    0    0    0    0    0    0    0   \n",
       "426  0.465255       1       0  ...    0    0    0    0    0    0    1    0   \n",
       "728  0.204096       1       0  ...    0    0    0    0    1    0    0    0   \n",
       "482  0.482973       0       1  ...    0    0    0    0    0    0    1    0   \n",
       "\n",
       "     tue  wed  \n",
       "653    0    1  \n",
       "576    0    1  \n",
       "426    0    0  \n",
       "728    0    0  \n",
       "482    0    0  \n",
       "\n",
       "[5 rows x 30 columns]"
      ]
     },
     "execution_count": 54,
     "metadata": {},
     "output_type": "execute_result"
    }
   ],
   "source": [
    "df_train.head()"
   ]
  },
  {
   "cell_type": "code",
   "execution_count": 55,
   "id": "d17a28d9",
   "metadata": {},
   "outputs": [
    {
     "data": {
      "text/html": [
       "<div>\n",
       "<style scoped>\n",
       "    .dataframe tbody tr th:only-of-type {\n",
       "        vertical-align: middle;\n",
       "    }\n",
       "\n",
       "    .dataframe tbody tr th {\n",
       "        vertical-align: top;\n",
       "    }\n",
       "\n",
       "    .dataframe thead th {\n",
       "        text-align: right;\n",
       "    }\n",
       "</style>\n",
       "<table border=\"1\" class=\"dataframe\">\n",
       "  <thead>\n",
       "    <tr style=\"text-align: right;\">\n",
       "      <th></th>\n",
       "      <th>yr</th>\n",
       "      <th>holiday</th>\n",
       "      <th>workingday</th>\n",
       "      <th>temp</th>\n",
       "      <th>atemp</th>\n",
       "      <th>hum</th>\n",
       "      <th>windspeed</th>\n",
       "      <th>cnt</th>\n",
       "      <th>spring</th>\n",
       "      <th>summer</th>\n",
       "      <th>...</th>\n",
       "      <th>may</th>\n",
       "      <th>nov</th>\n",
       "      <th>oct</th>\n",
       "      <th>sep</th>\n",
       "      <th>mon</th>\n",
       "      <th>sat</th>\n",
       "      <th>sun</th>\n",
       "      <th>thu</th>\n",
       "      <th>tue</th>\n",
       "      <th>wed</th>\n",
       "    </tr>\n",
       "  </thead>\n",
       "  <tbody>\n",
       "    <tr>\n",
       "      <th>184</th>\n",
       "      <td>0</td>\n",
       "      <td>1</td>\n",
       "      <td>0</td>\n",
       "      <td>0.837241</td>\n",
       "      <td>0.778767</td>\n",
       "      <td>0.534223</td>\n",
       "      <td>0.149393</td>\n",
       "      <td>0.704300</td>\n",
       "      <td>0</td>\n",
       "      <td>0</td>\n",
       "      <td>...</td>\n",
       "      <td>0</td>\n",
       "      <td>0</td>\n",
       "      <td>0</td>\n",
       "      <td>0</td>\n",
       "      <td>0</td>\n",
       "      <td>0</td>\n",
       "      <td>0</td>\n",
       "      <td>0</td>\n",
       "      <td>0</td>\n",
       "      <td>1</td>\n",
       "    </tr>\n",
       "    <tr>\n",
       "      <th>535</th>\n",
       "      <td>1</td>\n",
       "      <td>0</td>\n",
       "      <td>1</td>\n",
       "      <td>0.911423</td>\n",
       "      <td>0.855132</td>\n",
       "      <td>0.470417</td>\n",
       "      <td>0.231142</td>\n",
       "      <td>0.725421</td>\n",
       "      <td>0</td>\n",
       "      <td>1</td>\n",
       "      <td>...</td>\n",
       "      <td>0</td>\n",
       "      <td>0</td>\n",
       "      <td>0</td>\n",
       "      <td>0</td>\n",
       "      <td>0</td>\n",
       "      <td>0</td>\n",
       "      <td>0</td>\n",
       "      <td>1</td>\n",
       "      <td>0</td>\n",
       "      <td>0</td>\n",
       "    </tr>\n",
       "    <tr>\n",
       "      <th>299</th>\n",
       "      <td>0</td>\n",
       "      <td>0</td>\n",
       "      <td>0</td>\n",
       "      <td>0.496221</td>\n",
       "      <td>0.492359</td>\n",
       "      <td>0.777843</td>\n",
       "      <td>0.443398</td>\n",
       "      <td>0.278853</td>\n",
       "      <td>0</td>\n",
       "      <td>0</td>\n",
       "      <td>...</td>\n",
       "      <td>0</td>\n",
       "      <td>0</td>\n",
       "      <td>1</td>\n",
       "      <td>0</td>\n",
       "      <td>0</td>\n",
       "      <td>1</td>\n",
       "      <td>0</td>\n",
       "      <td>0</td>\n",
       "      <td>0</td>\n",
       "      <td>0</td>\n",
       "    </tr>\n",
       "    <tr>\n",
       "      <th>221</th>\n",
       "      <td>0</td>\n",
       "      <td>0</td>\n",
       "      <td>1</td>\n",
       "      <td>0.890387</td>\n",
       "      <td>0.805661</td>\n",
       "      <td>0.236659</td>\n",
       "      <td>0.449707</td>\n",
       "      <td>0.545512</td>\n",
       "      <td>0</td>\n",
       "      <td>0</td>\n",
       "      <td>...</td>\n",
       "      <td>0</td>\n",
       "      <td>0</td>\n",
       "      <td>0</td>\n",
       "      <td>0</td>\n",
       "      <td>0</td>\n",
       "      <td>0</td>\n",
       "      <td>0</td>\n",
       "      <td>0</td>\n",
       "      <td>0</td>\n",
       "      <td>0</td>\n",
       "    </tr>\n",
       "    <tr>\n",
       "      <th>152</th>\n",
       "      <td>0</td>\n",
       "      <td>0</td>\n",
       "      <td>0</td>\n",
       "      <td>0.821739</td>\n",
       "      <td>0.749249</td>\n",
       "      <td>0.070765</td>\n",
       "      <td>0.682387</td>\n",
       "      <td>0.569148</td>\n",
       "      <td>0</td>\n",
       "      <td>1</td>\n",
       "      <td>...</td>\n",
       "      <td>0</td>\n",
       "      <td>0</td>\n",
       "      <td>0</td>\n",
       "      <td>0</td>\n",
       "      <td>0</td>\n",
       "      <td>1</td>\n",
       "      <td>0</td>\n",
       "      <td>0</td>\n",
       "      <td>0</td>\n",
       "      <td>0</td>\n",
       "    </tr>\n",
       "  </tbody>\n",
       "</table>\n",
       "<p>5 rows × 30 columns</p>\n",
       "</div>"
      ],
      "text/plain": [
       "     yr  holiday  workingday      temp     atemp       hum  windspeed  \\\n",
       "184   0        1           0  0.837241  0.778767  0.534223   0.149393   \n",
       "535   1        0           1  0.911423  0.855132  0.470417   0.231142   \n",
       "299   0        0           0  0.496221  0.492359  0.777843   0.443398   \n",
       "221   0        0           1  0.890387  0.805661  0.236659   0.449707   \n",
       "152   0        0           0  0.821739  0.749249  0.070765   0.682387   \n",
       "\n",
       "          cnt  spring  summer  ...  may  nov  oct  sep  mon  sat  sun  thu  \\\n",
       "184  0.704300       0       0  ...    0    0    0    0    0    0    0    0   \n",
       "535  0.725421       0       1  ...    0    0    0    0    0    0    0    1   \n",
       "299  0.278853       0       0  ...    0    0    1    0    0    1    0    0   \n",
       "221  0.545512       0       0  ...    0    0    0    0    0    0    0    0   \n",
       "152  0.569148       0       1  ...    0    0    0    0    0    1    0    0   \n",
       "\n",
       "     tue  wed  \n",
       "184    0    1  \n",
       "535    0    0  \n",
       "299    0    0  \n",
       "221    0    0  \n",
       "152    0    0  \n",
       "\n",
       "[5 rows x 30 columns]"
      ]
     },
     "execution_count": 55,
     "metadata": {},
     "output_type": "execute_result"
    }
   ],
   "source": [
    "df_test.head()"
   ]
  },
  {
   "cell_type": "code",
   "execution_count": 56,
   "id": "9a1cc22c",
   "metadata": {},
   "outputs": [
    {
     "data": {
      "text/html": [
       "<div>\n",
       "<style scoped>\n",
       "    .dataframe tbody tr th:only-of-type {\n",
       "        vertical-align: middle;\n",
       "    }\n",
       "\n",
       "    .dataframe tbody tr th {\n",
       "        vertical-align: top;\n",
       "    }\n",
       "\n",
       "    .dataframe thead th {\n",
       "        text-align: right;\n",
       "    }\n",
       "</style>\n",
       "<table border=\"1\" class=\"dataframe\">\n",
       "  <thead>\n",
       "    <tr style=\"text-align: right;\">\n",
       "      <th></th>\n",
       "      <th>yr</th>\n",
       "      <th>holiday</th>\n",
       "      <th>workingday</th>\n",
       "      <th>temp</th>\n",
       "      <th>atemp</th>\n",
       "      <th>hum</th>\n",
       "      <th>windspeed</th>\n",
       "      <th>cnt</th>\n",
       "      <th>spring</th>\n",
       "      <th>summer</th>\n",
       "      <th>...</th>\n",
       "      <th>may</th>\n",
       "      <th>nov</th>\n",
       "      <th>oct</th>\n",
       "      <th>sep</th>\n",
       "      <th>mon</th>\n",
       "      <th>sat</th>\n",
       "      <th>sun</th>\n",
       "      <th>thu</th>\n",
       "      <th>tue</th>\n",
       "      <th>wed</th>\n",
       "    </tr>\n",
       "  </thead>\n",
       "  <tbody>\n",
       "    <tr>\n",
       "      <th>count</th>\n",
       "      <td>510.000000</td>\n",
       "      <td>510.000000</td>\n",
       "      <td>510.000000</td>\n",
       "      <td>510.000000</td>\n",
       "      <td>510.000000</td>\n",
       "      <td>510.000000</td>\n",
       "      <td>510.000000</td>\n",
       "      <td>510.000000</td>\n",
       "      <td>510.000000</td>\n",
       "      <td>510.000000</td>\n",
       "      <td>...</td>\n",
       "      <td>510.000000</td>\n",
       "      <td>510.000000</td>\n",
       "      <td>510.000000</td>\n",
       "      <td>510.000000</td>\n",
       "      <td>510.000000</td>\n",
       "      <td>510.000000</td>\n",
       "      <td>510.000000</td>\n",
       "      <td>510.000000</td>\n",
       "      <td>510.000000</td>\n",
       "      <td>510.000000</td>\n",
       "    </tr>\n",
       "    <tr>\n",
       "      <th>mean</th>\n",
       "      <td>0.507843</td>\n",
       "      <td>0.025490</td>\n",
       "      <td>0.711765</td>\n",
       "      <td>0.537262</td>\n",
       "      <td>0.512989</td>\n",
       "      <td>0.650369</td>\n",
       "      <td>0.320768</td>\n",
       "      <td>0.513620</td>\n",
       "      <td>0.243137</td>\n",
       "      <td>0.245098</td>\n",
       "      <td>...</td>\n",
       "      <td>0.084314</td>\n",
       "      <td>0.086275</td>\n",
       "      <td>0.086275</td>\n",
       "      <td>0.080392</td>\n",
       "      <td>0.154902</td>\n",
       "      <td>0.129412</td>\n",
       "      <td>0.137255</td>\n",
       "      <td>0.143137</td>\n",
       "      <td>0.152941</td>\n",
       "      <td>0.135294</td>\n",
       "    </tr>\n",
       "    <tr>\n",
       "      <th>std</th>\n",
       "      <td>0.500429</td>\n",
       "      <td>0.157763</td>\n",
       "      <td>0.453386</td>\n",
       "      <td>0.225844</td>\n",
       "      <td>0.212385</td>\n",
       "      <td>0.145882</td>\n",
       "      <td>0.169797</td>\n",
       "      <td>0.224593</td>\n",
       "      <td>0.429398</td>\n",
       "      <td>0.430568</td>\n",
       "      <td>...</td>\n",
       "      <td>0.278131</td>\n",
       "      <td>0.281045</td>\n",
       "      <td>0.281045</td>\n",
       "      <td>0.272166</td>\n",
       "      <td>0.362166</td>\n",
       "      <td>0.335985</td>\n",
       "      <td>0.344454</td>\n",
       "      <td>0.350557</td>\n",
       "      <td>0.360284</td>\n",
       "      <td>0.342373</td>\n",
       "    </tr>\n",
       "    <tr>\n",
       "      <th>min</th>\n",
       "      <td>0.000000</td>\n",
       "      <td>0.000000</td>\n",
       "      <td>0.000000</td>\n",
       "      <td>0.000000</td>\n",
       "      <td>0.000000</td>\n",
       "      <td>0.000000</td>\n",
       "      <td>0.000000</td>\n",
       "      <td>0.000000</td>\n",
       "      <td>0.000000</td>\n",
       "      <td>0.000000</td>\n",
       "      <td>...</td>\n",
       "      <td>0.000000</td>\n",
       "      <td>0.000000</td>\n",
       "      <td>0.000000</td>\n",
       "      <td>0.000000</td>\n",
       "      <td>0.000000</td>\n",
       "      <td>0.000000</td>\n",
       "      <td>0.000000</td>\n",
       "      <td>0.000000</td>\n",
       "      <td>0.000000</td>\n",
       "      <td>0.000000</td>\n",
       "    </tr>\n",
       "    <tr>\n",
       "      <th>25%</th>\n",
       "      <td>0.000000</td>\n",
       "      <td>0.000000</td>\n",
       "      <td>0.000000</td>\n",
       "      <td>0.339853</td>\n",
       "      <td>0.332086</td>\n",
       "      <td>0.538643</td>\n",
       "      <td>0.199179</td>\n",
       "      <td>0.356420</td>\n",
       "      <td>0.000000</td>\n",
       "      <td>0.000000</td>\n",
       "      <td>...</td>\n",
       "      <td>0.000000</td>\n",
       "      <td>0.000000</td>\n",
       "      <td>0.000000</td>\n",
       "      <td>0.000000</td>\n",
       "      <td>0.000000</td>\n",
       "      <td>0.000000</td>\n",
       "      <td>0.000000</td>\n",
       "      <td>0.000000</td>\n",
       "      <td>0.000000</td>\n",
       "      <td>0.000000</td>\n",
       "    </tr>\n",
       "    <tr>\n",
       "      <th>50%</th>\n",
       "      <td>1.000000</td>\n",
       "      <td>0.000000</td>\n",
       "      <td>1.000000</td>\n",
       "      <td>0.540519</td>\n",
       "      <td>0.526811</td>\n",
       "      <td>0.653714</td>\n",
       "      <td>0.296763</td>\n",
       "      <td>0.518638</td>\n",
       "      <td>0.000000</td>\n",
       "      <td>0.000000</td>\n",
       "      <td>...</td>\n",
       "      <td>0.000000</td>\n",
       "      <td>0.000000</td>\n",
       "      <td>0.000000</td>\n",
       "      <td>0.000000</td>\n",
       "      <td>0.000000</td>\n",
       "      <td>0.000000</td>\n",
       "      <td>0.000000</td>\n",
       "      <td>0.000000</td>\n",
       "      <td>0.000000</td>\n",
       "      <td>0.000000</td>\n",
       "    </tr>\n",
       "    <tr>\n",
       "      <th>75%</th>\n",
       "      <td>1.000000</td>\n",
       "      <td>0.000000</td>\n",
       "      <td>1.000000</td>\n",
       "      <td>0.735215</td>\n",
       "      <td>0.688457</td>\n",
       "      <td>0.754830</td>\n",
       "      <td>0.414447</td>\n",
       "      <td>0.684710</td>\n",
       "      <td>0.000000</td>\n",
       "      <td>0.000000</td>\n",
       "      <td>...</td>\n",
       "      <td>0.000000</td>\n",
       "      <td>0.000000</td>\n",
       "      <td>0.000000</td>\n",
       "      <td>0.000000</td>\n",
       "      <td>0.000000</td>\n",
       "      <td>0.000000</td>\n",
       "      <td>0.000000</td>\n",
       "      <td>0.000000</td>\n",
       "      <td>0.000000</td>\n",
       "      <td>0.000000</td>\n",
       "    </tr>\n",
       "    <tr>\n",
       "      <th>max</th>\n",
       "      <td>1.000000</td>\n",
       "      <td>1.000000</td>\n",
       "      <td>1.000000</td>\n",
       "      <td>1.000000</td>\n",
       "      <td>1.000000</td>\n",
       "      <td>1.000000</td>\n",
       "      <td>1.000000</td>\n",
       "      <td>1.000000</td>\n",
       "      <td>1.000000</td>\n",
       "      <td>1.000000</td>\n",
       "      <td>...</td>\n",
       "      <td>1.000000</td>\n",
       "      <td>1.000000</td>\n",
       "      <td>1.000000</td>\n",
       "      <td>1.000000</td>\n",
       "      <td>1.000000</td>\n",
       "      <td>1.000000</td>\n",
       "      <td>1.000000</td>\n",
       "      <td>1.000000</td>\n",
       "      <td>1.000000</td>\n",
       "      <td>1.000000</td>\n",
       "    </tr>\n",
       "  </tbody>\n",
       "</table>\n",
       "<p>8 rows × 30 columns</p>\n",
       "</div>"
      ],
      "text/plain": [
       "               yr     holiday  workingday        temp       atemp         hum  \\\n",
       "count  510.000000  510.000000  510.000000  510.000000  510.000000  510.000000   \n",
       "mean     0.507843    0.025490    0.711765    0.537262    0.512989    0.650369   \n",
       "std      0.500429    0.157763    0.453386    0.225844    0.212385    0.145882   \n",
       "min      0.000000    0.000000    0.000000    0.000000    0.000000    0.000000   \n",
       "25%      0.000000    0.000000    0.000000    0.339853    0.332086    0.538643   \n",
       "50%      1.000000    0.000000    1.000000    0.540519    0.526811    0.653714   \n",
       "75%      1.000000    0.000000    1.000000    0.735215    0.688457    0.754830   \n",
       "max      1.000000    1.000000    1.000000    1.000000    1.000000    1.000000   \n",
       "\n",
       "        windspeed         cnt      spring      summer  ...         may  \\\n",
       "count  510.000000  510.000000  510.000000  510.000000  ...  510.000000   \n",
       "mean     0.320768    0.513620    0.243137    0.245098  ...    0.084314   \n",
       "std      0.169797    0.224593    0.429398    0.430568  ...    0.278131   \n",
       "min      0.000000    0.000000    0.000000    0.000000  ...    0.000000   \n",
       "25%      0.199179    0.356420    0.000000    0.000000  ...    0.000000   \n",
       "50%      0.296763    0.518638    0.000000    0.000000  ...    0.000000   \n",
       "75%      0.414447    0.684710    0.000000    0.000000  ...    0.000000   \n",
       "max      1.000000    1.000000    1.000000    1.000000  ...    1.000000   \n",
       "\n",
       "              nov         oct         sep         mon         sat         sun  \\\n",
       "count  510.000000  510.000000  510.000000  510.000000  510.000000  510.000000   \n",
       "mean     0.086275    0.086275    0.080392    0.154902    0.129412    0.137255   \n",
       "std      0.281045    0.281045    0.272166    0.362166    0.335985    0.344454   \n",
       "min      0.000000    0.000000    0.000000    0.000000    0.000000    0.000000   \n",
       "25%      0.000000    0.000000    0.000000    0.000000    0.000000    0.000000   \n",
       "50%      0.000000    0.000000    0.000000    0.000000    0.000000    0.000000   \n",
       "75%      0.000000    0.000000    0.000000    0.000000    0.000000    0.000000   \n",
       "max      1.000000    1.000000    1.000000    1.000000    1.000000    1.000000   \n",
       "\n",
       "              thu         tue         wed  \n",
       "count  510.000000  510.000000  510.000000  \n",
       "mean     0.143137    0.152941    0.135294  \n",
       "std      0.350557    0.360284    0.342373  \n",
       "min      0.000000    0.000000    0.000000  \n",
       "25%      0.000000    0.000000    0.000000  \n",
       "50%      0.000000    0.000000    0.000000  \n",
       "75%      0.000000    0.000000    0.000000  \n",
       "max      1.000000    1.000000    1.000000  \n",
       "\n",
       "[8 rows x 30 columns]"
      ]
     },
     "execution_count": 56,
     "metadata": {},
     "output_type": "execute_result"
    }
   ],
   "source": [
    "df_train.describe()"
   ]
  },
  {
   "cell_type": "code",
   "execution_count": 57,
   "id": "eb822ef0",
   "metadata": {
    "scrolled": true
   },
   "outputs": [
    {
     "data": {
      "text/html": [
       "<div>\n",
       "<style scoped>\n",
       "    .dataframe tbody tr th:only-of-type {\n",
       "        vertical-align: middle;\n",
       "    }\n",
       "\n",
       "    .dataframe tbody tr th {\n",
       "        vertical-align: top;\n",
       "    }\n",
       "\n",
       "    .dataframe thead th {\n",
       "        text-align: right;\n",
       "    }\n",
       "</style>\n",
       "<table border=\"1\" class=\"dataframe\">\n",
       "  <thead>\n",
       "    <tr style=\"text-align: right;\">\n",
       "      <th></th>\n",
       "      <th>yr</th>\n",
       "      <th>holiday</th>\n",
       "      <th>workingday</th>\n",
       "      <th>temp</th>\n",
       "      <th>atemp</th>\n",
       "      <th>hum</th>\n",
       "      <th>windspeed</th>\n",
       "      <th>cnt</th>\n",
       "      <th>spring</th>\n",
       "      <th>summer</th>\n",
       "      <th>...</th>\n",
       "      <th>may</th>\n",
       "      <th>nov</th>\n",
       "      <th>oct</th>\n",
       "      <th>sep</th>\n",
       "      <th>mon</th>\n",
       "      <th>sat</th>\n",
       "      <th>sun</th>\n",
       "      <th>thu</th>\n",
       "      <th>tue</th>\n",
       "      <th>wed</th>\n",
       "    </tr>\n",
       "  </thead>\n",
       "  <tbody>\n",
       "    <tr>\n",
       "      <th>count</th>\n",
       "      <td>219.000000</td>\n",
       "      <td>219.000000</td>\n",
       "      <td>219.000000</td>\n",
       "      <td>219.000000</td>\n",
       "      <td>219.000000</td>\n",
       "      <td>219.000000</td>\n",
       "      <td>219.000000</td>\n",
       "      <td>219.000000</td>\n",
       "      <td>219.000000</td>\n",
       "      <td>219.000000</td>\n",
       "      <td>...</td>\n",
       "      <td>219.000000</td>\n",
       "      <td>219.000000</td>\n",
       "      <td>219.000000</td>\n",
       "      <td>219.000000</td>\n",
       "      <td>219.000000</td>\n",
       "      <td>219.000000</td>\n",
       "      <td>219.000000</td>\n",
       "      <td>219.000000</td>\n",
       "      <td>219.000000</td>\n",
       "      <td>219.000000</td>\n",
       "    </tr>\n",
       "    <tr>\n",
       "      <th>mean</th>\n",
       "      <td>0.479452</td>\n",
       "      <td>0.036530</td>\n",
       "      <td>0.639269</td>\n",
       "      <td>0.546312</td>\n",
       "      <td>0.530942</td>\n",
       "      <td>0.508750</td>\n",
       "      <td>0.418870</td>\n",
       "      <td>0.516216</td>\n",
       "      <td>0.255708</td>\n",
       "      <td>0.264840</td>\n",
       "      <td>...</td>\n",
       "      <td>0.086758</td>\n",
       "      <td>0.073059</td>\n",
       "      <td>0.082192</td>\n",
       "      <td>0.086758</td>\n",
       "      <td>0.118721</td>\n",
       "      <td>0.173516</td>\n",
       "      <td>0.155251</td>\n",
       "      <td>0.141553</td>\n",
       "      <td>0.123288</td>\n",
       "      <td>0.155251</td>\n",
       "    </tr>\n",
       "    <tr>\n",
       "      <th>std</th>\n",
       "      <td>0.500722</td>\n",
       "      <td>0.188034</td>\n",
       "      <td>0.481313</td>\n",
       "      <td>0.249189</td>\n",
       "      <td>0.228159</td>\n",
       "      <td>0.201253</td>\n",
       "      <td>0.188111</td>\n",
       "      <td>0.238702</td>\n",
       "      <td>0.437258</td>\n",
       "      <td>0.442259</td>\n",
       "      <td>...</td>\n",
       "      <td>0.282125</td>\n",
       "      <td>0.260830</td>\n",
       "      <td>0.275286</td>\n",
       "      <td>0.282125</td>\n",
       "      <td>0.324202</td>\n",
       "      <td>0.379560</td>\n",
       "      <td>0.362974</td>\n",
       "      <td>0.349389</td>\n",
       "      <td>0.329520</td>\n",
       "      <td>0.362974</td>\n",
       "    </tr>\n",
       "    <tr>\n",
       "      <th>min</th>\n",
       "      <td>0.000000</td>\n",
       "      <td>0.000000</td>\n",
       "      <td>0.000000</td>\n",
       "      <td>0.000000</td>\n",
       "      <td>0.000000</td>\n",
       "      <td>0.000000</td>\n",
       "      <td>0.000000</td>\n",
       "      <td>0.000000</td>\n",
       "      <td>0.000000</td>\n",
       "      <td>0.000000</td>\n",
       "      <td>...</td>\n",
       "      <td>0.000000</td>\n",
       "      <td>0.000000</td>\n",
       "      <td>0.000000</td>\n",
       "      <td>0.000000</td>\n",
       "      <td>0.000000</td>\n",
       "      <td>0.000000</td>\n",
       "      <td>0.000000</td>\n",
       "      <td>0.000000</td>\n",
       "      <td>0.000000</td>\n",
       "      <td>0.000000</td>\n",
       "    </tr>\n",
       "    <tr>\n",
       "      <th>25%</th>\n",
       "      <td>0.000000</td>\n",
       "      <td>0.000000</td>\n",
       "      <td>0.000000</td>\n",
       "      <td>0.328479</td>\n",
       "      <td>0.333829</td>\n",
       "      <td>0.358469</td>\n",
       "      <td>0.283817</td>\n",
       "      <td>0.359882</td>\n",
       "      <td>0.000000</td>\n",
       "      <td>0.000000</td>\n",
       "      <td>...</td>\n",
       "      <td>0.000000</td>\n",
       "      <td>0.000000</td>\n",
       "      <td>0.000000</td>\n",
       "      <td>0.000000</td>\n",
       "      <td>0.000000</td>\n",
       "      <td>0.000000</td>\n",
       "      <td>0.000000</td>\n",
       "      <td>0.000000</td>\n",
       "      <td>0.000000</td>\n",
       "      <td>0.000000</td>\n",
       "    </tr>\n",
       "    <tr>\n",
       "      <th>50%</th>\n",
       "      <td>0.000000</td>\n",
       "      <td>0.000000</td>\n",
       "      <td>1.000000</td>\n",
       "      <td>0.546045</td>\n",
       "      <td>0.547913</td>\n",
       "      <td>0.494200</td>\n",
       "      <td>0.402533</td>\n",
       "      <td>0.520241</td>\n",
       "      <td>0.000000</td>\n",
       "      <td>0.000000</td>\n",
       "      <td>...</td>\n",
       "      <td>0.000000</td>\n",
       "      <td>0.000000</td>\n",
       "      <td>0.000000</td>\n",
       "      <td>0.000000</td>\n",
       "      <td>0.000000</td>\n",
       "      <td>0.000000</td>\n",
       "      <td>0.000000</td>\n",
       "      <td>0.000000</td>\n",
       "      <td>0.000000</td>\n",
       "      <td>0.000000</td>\n",
       "    </tr>\n",
       "    <tr>\n",
       "      <th>75%</th>\n",
       "      <td>1.000000</td>\n",
       "      <td>0.000000</td>\n",
       "      <td>1.000000</td>\n",
       "      <td>0.759735</td>\n",
       "      <td>0.720622</td>\n",
       "      <td>0.651165</td>\n",
       "      <td>0.524362</td>\n",
       "      <td>0.682487</td>\n",
       "      <td>1.000000</td>\n",
       "      <td>1.000000</td>\n",
       "      <td>...</td>\n",
       "      <td>0.000000</td>\n",
       "      <td>0.000000</td>\n",
       "      <td>0.000000</td>\n",
       "      <td>0.000000</td>\n",
       "      <td>0.000000</td>\n",
       "      <td>0.000000</td>\n",
       "      <td>0.000000</td>\n",
       "      <td>0.000000</td>\n",
       "      <td>0.000000</td>\n",
       "      <td>0.000000</td>\n",
       "    </tr>\n",
       "    <tr>\n",
       "      <th>max</th>\n",
       "      <td>1.000000</td>\n",
       "      <td>1.000000</td>\n",
       "      <td>1.000000</td>\n",
       "      <td>1.000000</td>\n",
       "      <td>1.000000</td>\n",
       "      <td>1.000000</td>\n",
       "      <td>1.000000</td>\n",
       "      <td>1.000000</td>\n",
       "      <td>1.000000</td>\n",
       "      <td>1.000000</td>\n",
       "      <td>...</td>\n",
       "      <td>1.000000</td>\n",
       "      <td>1.000000</td>\n",
       "      <td>1.000000</td>\n",
       "      <td>1.000000</td>\n",
       "      <td>1.000000</td>\n",
       "      <td>1.000000</td>\n",
       "      <td>1.000000</td>\n",
       "      <td>1.000000</td>\n",
       "      <td>1.000000</td>\n",
       "      <td>1.000000</td>\n",
       "    </tr>\n",
       "  </tbody>\n",
       "</table>\n",
       "<p>8 rows × 30 columns</p>\n",
       "</div>"
      ],
      "text/plain": [
       "               yr     holiday  workingday        temp       atemp         hum  \\\n",
       "count  219.000000  219.000000  219.000000  219.000000  219.000000  219.000000   \n",
       "mean     0.479452    0.036530    0.639269    0.546312    0.530942    0.508750   \n",
       "std      0.500722    0.188034    0.481313    0.249189    0.228159    0.201253   \n",
       "min      0.000000    0.000000    0.000000    0.000000    0.000000    0.000000   \n",
       "25%      0.000000    0.000000    0.000000    0.328479    0.333829    0.358469   \n",
       "50%      0.000000    0.000000    1.000000    0.546045    0.547913    0.494200   \n",
       "75%      1.000000    0.000000    1.000000    0.759735    0.720622    0.651165   \n",
       "max      1.000000    1.000000    1.000000    1.000000    1.000000    1.000000   \n",
       "\n",
       "        windspeed         cnt      spring      summer  ...         may  \\\n",
       "count  219.000000  219.000000  219.000000  219.000000  ...  219.000000   \n",
       "mean     0.418870    0.516216    0.255708    0.264840  ...    0.086758   \n",
       "std      0.188111    0.238702    0.437258    0.442259  ...    0.282125   \n",
       "min      0.000000    0.000000    0.000000    0.000000  ...    0.000000   \n",
       "25%      0.283817    0.359882    0.000000    0.000000  ...    0.000000   \n",
       "50%      0.402533    0.520241    0.000000    0.000000  ...    0.000000   \n",
       "75%      0.524362    0.682487    1.000000    1.000000  ...    0.000000   \n",
       "max      1.000000    1.000000    1.000000    1.000000  ...    1.000000   \n",
       "\n",
       "              nov         oct         sep         mon         sat         sun  \\\n",
       "count  219.000000  219.000000  219.000000  219.000000  219.000000  219.000000   \n",
       "mean     0.073059    0.082192    0.086758    0.118721    0.173516    0.155251   \n",
       "std      0.260830    0.275286    0.282125    0.324202    0.379560    0.362974   \n",
       "min      0.000000    0.000000    0.000000    0.000000    0.000000    0.000000   \n",
       "25%      0.000000    0.000000    0.000000    0.000000    0.000000    0.000000   \n",
       "50%      0.000000    0.000000    0.000000    0.000000    0.000000    0.000000   \n",
       "75%      0.000000    0.000000    0.000000    0.000000    0.000000    0.000000   \n",
       "max      1.000000    1.000000    1.000000    1.000000    1.000000    1.000000   \n",
       "\n",
       "              thu         tue         wed  \n",
       "count  219.000000  219.000000  219.000000  \n",
       "mean     0.141553    0.123288    0.155251  \n",
       "std      0.349389    0.329520    0.362974  \n",
       "min      0.000000    0.000000    0.000000  \n",
       "25%      0.000000    0.000000    0.000000  \n",
       "50%      0.000000    0.000000    0.000000  \n",
       "75%      0.000000    0.000000    0.000000  \n",
       "max      1.000000    1.000000    1.000000  \n",
       "\n",
       "[8 rows x 30 columns]"
      ]
     },
     "execution_count": 57,
     "metadata": {},
     "output_type": "execute_result"
    }
   ],
   "source": [
    "df_test.describe()"
   ]
  },
  {
   "cell_type": "markdown",
   "id": "79437be5",
   "metadata": {},
   "source": [
    "# Step 7 : Building a Linear Model"
   ]
  },
  {
   "cell_type": "markdown",
   "id": "ee6347a5",
   "metadata": {},
   "source": [
    "### Dividing dataset into Target variable (y) and Predictor variable (X)."
   ]
  },
  {
   "cell_type": "code",
   "execution_count": 58,
   "id": "bb7a8b24",
   "metadata": {},
   "outputs": [],
   "source": [
    "# Dividing into X and y sets for the model building\n",
    "\n",
    "# For train-set\n",
    "y_train=df_train.pop('cnt')\n",
    "X_train=df_train\n",
    "\n",
    "# For test-set\n",
    "y_test=df_test.pop('cnt')\n",
    "X_test=df_test\n"
   ]
  },
  {
   "cell_type": "markdown",
   "id": "f821bc88",
   "metadata": {},
   "source": [
    "### Feature Selection"
   ]
  },
  {
   "cell_type": "code",
   "execution_count": 59,
   "id": "a1ea52de",
   "metadata": {},
   "outputs": [],
   "source": [
    "# Importing RFE and LinearRegression\n",
    "from sklearn.feature_selection import RFE\n",
    "from sklearn.linear_model import LinearRegression"
   ]
  },
  {
   "cell_type": "code",
   "execution_count": 60,
   "id": "c42bed96",
   "metadata": {},
   "outputs": [
    {
     "data": {
      "text/plain": [
       "array([ True,  True, False,  True, False,  True,  True,  True,  True,\n",
       "        True,  True,  True, False,  True, False,  True,  True, False,\n",
       "       False, False,  True, False,  True, False, False, False, False,\n",
       "       False, False])"
      ]
     },
     "execution_count": 60,
     "metadata": {},
     "output_type": "execute_result"
    }
   ],
   "source": [
    "# Running RFE with the output number of the variable equal to 15\n",
    "estimator=LinearRegression()\n",
    "selector=RFE(estimator,n_features_to_select=15)\n",
    "selector=selector.fit(X_train,y_train)\n",
    "selector.support_"
   ]
  },
  {
   "cell_type": "code",
   "execution_count": 61,
   "id": "99a54abc",
   "metadata": {},
   "outputs": [
    {
     "name": "stdout",
     "output_type": "stream",
     "text": [
      "True \t yr\n",
      "True \t holiday\n",
      "False \t workingday\n",
      "True \t temp\n",
      "False \t atemp\n",
      "True \t hum\n",
      "True \t windspeed\n",
      "True \t spring\n",
      "True \t summer\n",
      "True \t winter\n",
      "True \t light Rain\n",
      "True \t mist\n",
      "False \t aug\n",
      "True \t dec\n",
      "False \t feb\n",
      "True \t jan\n",
      "True \t jul\n",
      "False \t jun\n",
      "False \t mar\n",
      "False \t may\n",
      "True \t nov\n",
      "False \t oct\n",
      "True \t sep\n",
      "False \t mon\n",
      "False \t sat\n",
      "False \t sun\n",
      "False \t thu\n",
      "False \t tue\n",
      "False \t wed\n"
     ]
    }
   ],
   "source": [
    "selected_cols=[]\n",
    "for i,j in zip(selector.support_,X_train.columns):\n",
    "    print(i,'\\t',j)\n",
    "    if i==True:\n",
    "        selected_cols.append(j)"
   ]
  },
  {
   "cell_type": "code",
   "execution_count": 62,
   "id": "769bf546",
   "metadata": {
    "scrolled": false
   },
   "outputs": [
    {
     "data": {
      "text/plain": [
       "['yr',\n",
       " 'holiday',\n",
       " 'temp',\n",
       " 'hum',\n",
       " 'windspeed',\n",
       " 'spring',\n",
       " 'summer',\n",
       " 'winter',\n",
       " 'light Rain',\n",
       " 'mist',\n",
       " 'dec',\n",
       " 'jan',\n",
       " 'jul',\n",
       " 'nov',\n",
       " 'sep']"
      ]
     },
     "execution_count": 62,
     "metadata": {},
     "output_type": "execute_result"
    }
   ],
   "source": [
    "selected_cols"
   ]
  },
  {
   "cell_type": "code",
   "execution_count": 63,
   "id": "765ff52f",
   "metadata": {},
   "outputs": [],
   "source": [
    "# Creating New X_train lists only for selected columns\n",
    "\n",
    "X_train=X_train[selected_cols]"
   ]
  },
  {
   "cell_type": "markdown",
   "id": "97dc4719",
   "metadata": {},
   "source": [
    "## 1st Model"
   ]
  },
  {
   "cell_type": "code",
   "execution_count": 64,
   "id": "8263bace",
   "metadata": {},
   "outputs": [],
   "source": [
    "import statsmodels.api as sm\n",
    "\n",
    "# Add a constant\n",
    "# For train-set\n",
    "X_train_lm = sm.add_constant(X_train)"
   ]
  },
  {
   "cell_type": "code",
   "execution_count": 65,
   "id": "45d49a31",
   "metadata": {},
   "outputs": [
    {
     "name": "stdout",
     "output_type": "stream",
     "text": [
      "Parameters are: \n",
      " const         0.320243\n",
      "yr            0.230328\n",
      "holiday      -0.091228\n",
      "temp          0.479977\n",
      "hum          -0.160227\n",
      "windspeed    -0.188457\n",
      "spring       -0.061737\n",
      "summer        0.040767\n",
      "winter        0.103435\n",
      "light Rain   -0.248116\n",
      "mist         -0.055876\n",
      "dec          -0.037199\n",
      "jan          -0.043748\n",
      "jul          -0.055495\n",
      "nov          -0.040949\n",
      "sep           0.074891\n",
      "dtype: float64\n"
     ]
    }
   ],
   "source": [
    "# Fitting model\n",
    "fit_lr1=sm.OLS(y_train,X_train_lm).fit()\n",
    "print(f'Parameters are: \\n {fit_lr1.params}')"
   ]
  },
  {
   "cell_type": "code",
   "execution_count": 66,
   "id": "dffd7ecd",
   "metadata": {
    "scrolled": false
   },
   "outputs": [
    {
     "name": "stdout",
     "output_type": "stream",
     "text": [
      "                            OLS Regression Results                            \n",
      "==============================================================================\n",
      "Dep. Variable:                    cnt   R-squared:                       0.845\n",
      "Model:                            OLS   Adj. R-squared:                  0.841\n",
      "Method:                 Least Squares   F-statistic:                     180.2\n",
      "Date:                Fri, 12 Aug 2022   Prob (F-statistic):          3.34e-189\n",
      "Time:                        20:20:40   Log-Likelihood:                 514.72\n",
      "No. Observations:                 510   AIC:                            -997.4\n",
      "Df Residuals:                     494   BIC:                            -929.7\n",
      "Df Model:                          15                                         \n",
      "Covariance Type:            nonrobust                                         \n",
      "==============================================================================\n",
      "                 coef    std err          t      P>|t|      [0.025      0.975]\n",
      "------------------------------------------------------------------------------\n",
      "const          0.3202      0.036      8.886      0.000       0.249       0.391\n",
      "yr             0.2303      0.008     28.511      0.000       0.214       0.246\n",
      "holiday       -0.0912      0.026     -3.566      0.000      -0.141      -0.041\n",
      "temp           0.4800      0.037     12.977      0.000       0.407       0.553\n",
      "hum           -0.1602      0.038     -4.240      0.000      -0.234      -0.086\n",
      "windspeed     -0.1885      0.026     -7.312      0.000      -0.239      -0.138\n",
      "spring        -0.0617      0.021     -2.907      0.004      -0.103      -0.020\n",
      "summer         0.0408      0.015      2.659      0.008       0.011       0.071\n",
      "winter         0.1034      0.018      5.763      0.000       0.068       0.139\n",
      "light Rain    -0.2481      0.026     -9.402      0.000      -0.300      -0.196\n",
      "mist          -0.0559      0.010     -5.338      0.000      -0.076      -0.035\n",
      "dec           -0.0372      0.017     -2.131      0.034      -0.071      -0.003\n",
      "jan           -0.0437      0.018     -2.415      0.016      -0.079      -0.008\n",
      "jul           -0.0555      0.018     -3.046      0.002      -0.091      -0.020\n",
      "nov           -0.0409      0.019     -2.187      0.029      -0.078      -0.004\n",
      "sep            0.0749      0.017      4.438      0.000       0.042       0.108\n",
      "==============================================================================\n",
      "Omnibus:                       67.327   Durbin-Watson:                   2.016\n",
      "Prob(Omnibus):                  0.000   Jarque-Bera (JB):              164.896\n",
      "Skew:                          -0.684   Prob(JB):                     1.56e-36\n",
      "Kurtosis:                       5.427   Cond. No.                         20.8\n",
      "==============================================================================\n",
      "\n",
      "Notes:\n",
      "[1] Standard Errors assume that the covariance matrix of the errors is correctly specified.\n"
     ]
    }
   ],
   "source": [
    "print(fit_lr1.summary())"
   ]
  },
  {
   "cell_type": "code",
   "execution_count": 67,
   "id": "0f794aba",
   "metadata": {},
   "outputs": [],
   "source": [
    "# Check for the VIF values of the feature variables. \n",
    "from statsmodels.stats.outliers_influence import variance_inflation_factor"
   ]
  },
  {
   "cell_type": "code",
   "execution_count": 68,
   "id": "c006cdb7",
   "metadata": {
    "scrolled": false
   },
   "outputs": [
    {
     "data": {
      "text/html": [
       "<div>\n",
       "<style scoped>\n",
       "    .dataframe tbody tr th:only-of-type {\n",
       "        vertical-align: middle;\n",
       "    }\n",
       "\n",
       "    .dataframe tbody tr th {\n",
       "        vertical-align: top;\n",
       "    }\n",
       "\n",
       "    .dataframe thead th {\n",
       "        text-align: right;\n",
       "    }\n",
       "</style>\n",
       "<table border=\"1\" class=\"dataframe\">\n",
       "  <thead>\n",
       "    <tr style=\"text-align: right;\">\n",
       "      <th></th>\n",
       "      <th>Features</th>\n",
       "      <th>VIF</th>\n",
       "    </tr>\n",
       "  </thead>\n",
       "  <tbody>\n",
       "    <tr>\n",
       "      <th>3</th>\n",
       "      <td>hum</td>\n",
       "      <td>30.94</td>\n",
       "    </tr>\n",
       "    <tr>\n",
       "      <th>2</th>\n",
       "      <td>temp</td>\n",
       "      <td>17.80</td>\n",
       "    </tr>\n",
       "    <tr>\n",
       "      <th>4</th>\n",
       "      <td>windspeed</td>\n",
       "      <td>4.72</td>\n",
       "    </tr>\n",
       "    <tr>\n",
       "      <th>5</th>\n",
       "      <td>spring</td>\n",
       "      <td>4.37</td>\n",
       "    </tr>\n",
       "    <tr>\n",
       "      <th>7</th>\n",
       "      <td>winter</td>\n",
       "      <td>4.06</td>\n",
       "    </tr>\n",
       "    <tr>\n",
       "      <th>6</th>\n",
       "      <td>summer</td>\n",
       "      <td>2.81</td>\n",
       "    </tr>\n",
       "    <tr>\n",
       "      <th>9</th>\n",
       "      <td>mist</td>\n",
       "      <td>2.32</td>\n",
       "    </tr>\n",
       "    <tr>\n",
       "      <th>0</th>\n",
       "      <td>yr</td>\n",
       "      <td>2.09</td>\n",
       "    </tr>\n",
       "    <tr>\n",
       "      <th>13</th>\n",
       "      <td>nov</td>\n",
       "      <td>1.83</td>\n",
       "    </tr>\n",
       "    <tr>\n",
       "      <th>11</th>\n",
       "      <td>jan</td>\n",
       "      <td>1.75</td>\n",
       "    </tr>\n",
       "    <tr>\n",
       "      <th>12</th>\n",
       "      <td>jul</td>\n",
       "      <td>1.59</td>\n",
       "    </tr>\n",
       "    <tr>\n",
       "      <th>10</th>\n",
       "      <td>dec</td>\n",
       "      <td>1.55</td>\n",
       "    </tr>\n",
       "    <tr>\n",
       "      <th>14</th>\n",
       "      <td>sep</td>\n",
       "      <td>1.41</td>\n",
       "    </tr>\n",
       "    <tr>\n",
       "      <th>8</th>\n",
       "      <td>light Rain</td>\n",
       "      <td>1.28</td>\n",
       "    </tr>\n",
       "    <tr>\n",
       "      <th>1</th>\n",
       "      <td>holiday</td>\n",
       "      <td>1.06</td>\n",
       "    </tr>\n",
       "  </tbody>\n",
       "</table>\n",
       "</div>"
      ],
      "text/plain": [
       "      Features    VIF\n",
       "3          hum  30.94\n",
       "2         temp  17.80\n",
       "4    windspeed   4.72\n",
       "5       spring   4.37\n",
       "7       winter   4.06\n",
       "6       summer   2.81\n",
       "9         mist   2.32\n",
       "0           yr   2.09\n",
       "13         nov   1.83\n",
       "11         jan   1.75\n",
       "12         jul   1.59\n",
       "10         dec   1.55\n",
       "14         sep   1.41\n",
       "8   light Rain   1.28\n",
       "1      holiday   1.06"
      ]
     },
     "execution_count": 68,
     "metadata": {},
     "output_type": "execute_result"
    }
   ],
   "source": [
    "# Create a dataframe that will contain the names of all the feature variables and their respective VIFs\n",
    "vif = pd.DataFrame()\n",
    "vif['Features'] = X_train.columns\n",
    "vif['VIF'] = [variance_inflation_factor(X_train.values, i) for i in range(X_train.shape[1])]\n",
    "vif['VIF'] = round(vif['VIF'], 2)\n",
    "vif = vif.sort_values(by = \"VIF\", ascending = False)\n",
    "vif"
   ]
  },
  {
   "cell_type": "markdown",
   "id": "1ad5b116",
   "metadata": {},
   "source": [
    "## 2nd Model"
   ]
  },
  {
   "cell_type": "markdown",
   "id": "e7477391",
   "metadata": {},
   "source": [
    "Dropping the variable 'hum' based on its high VIF"
   ]
  },
  {
   "cell_type": "code",
   "execution_count": 69,
   "id": "c74c8858",
   "metadata": {},
   "outputs": [],
   "source": [
    "# For train-set\n",
    "X_train = X_train.drop('hum', 1,)"
   ]
  },
  {
   "cell_type": "code",
   "execution_count": 70,
   "id": "f133de4d",
   "metadata": {
    "scrolled": false
   },
   "outputs": [
    {
     "name": "stdout",
     "output_type": "stream",
     "text": [
      "                            OLS Regression Results                            \n",
      "==============================================================================\n",
      "Dep. Variable:                    cnt   R-squared:                       0.840\n",
      "Model:                            OLS   Adj. R-squared:                  0.835\n",
      "Method:                 Least Squares   F-statistic:                     185.4\n",
      "Date:                Fri, 12 Aug 2022   Prob (F-statistic):          1.57e-186\n",
      "Time:                        20:20:41   Log-Likelihood:                 505.61\n",
      "No. Observations:                 510   AIC:                            -981.2\n",
      "Df Residuals:                     495   BIC:                            -917.7\n",
      "Df Model:                          14                                         \n",
      "Covariance Type:            nonrobust                                         \n",
      "==============================================================================\n",
      "                 coef    std err          t      P>|t|      [0.025      0.975]\n",
      "------------------------------------------------------------------------------\n",
      "const          0.2466      0.032      7.679      0.000       0.184       0.310\n",
      "yr             0.2343      0.008     28.709      0.000       0.218       0.250\n",
      "holiday       -0.0919      0.026     -3.533      0.000      -0.143      -0.041\n",
      "temp           0.4377      0.036     12.083      0.000       0.366       0.509\n",
      "windspeed     -0.1586      0.025     -6.290      0.000      -0.208      -0.109\n",
      "spring        -0.0716      0.021     -3.337      0.001      -0.114      -0.029\n",
      "summer         0.0333      0.015      2.148      0.032       0.003       0.064\n",
      "winter         0.0887      0.018      4.951      0.000       0.053       0.124\n",
      "light Rain    -0.2929      0.025    -11.908      0.000      -0.341      -0.245\n",
      "mist          -0.0814      0.009     -9.359      0.000      -0.099      -0.064\n",
      "dec           -0.0445      0.018     -2.520      0.012      -0.079      -0.010\n",
      "jan           -0.0503      0.018     -2.738      0.006      -0.086      -0.014\n",
      "jul           -0.0504      0.018     -2.725      0.007      -0.087      -0.014\n",
      "nov           -0.0419      0.019     -2.198      0.028      -0.079      -0.004\n",
      "sep            0.0682      0.017      3.992      0.000       0.035       0.102\n",
      "==============================================================================\n",
      "Omnibus:                       70.031   Durbin-Watson:                   2.013\n",
      "Prob(Omnibus):                  0.000   Jarque-Bera (JB):              175.566\n",
      "Skew:                          -0.702   Prob(JB):                     7.52e-39\n",
      "Kurtosis:                       5.508   Cond. No.                         18.9\n",
      "==============================================================================\n",
      "\n",
      "Notes:\n",
      "[1] Standard Errors assume that the covariance matrix of the errors is correctly specified.\n"
     ]
    },
    {
     "data": {
      "text/html": [
       "<div>\n",
       "<style scoped>\n",
       "    .dataframe tbody tr th:only-of-type {\n",
       "        vertical-align: middle;\n",
       "    }\n",
       "\n",
       "    .dataframe tbody tr th {\n",
       "        vertical-align: top;\n",
       "    }\n",
       "\n",
       "    .dataframe thead th {\n",
       "        text-align: right;\n",
       "    }\n",
       "</style>\n",
       "<table border=\"1\" class=\"dataframe\">\n",
       "  <thead>\n",
       "    <tr style=\"text-align: right;\">\n",
       "      <th></th>\n",
       "      <th>Features</th>\n",
       "      <th>VIF</th>\n",
       "    </tr>\n",
       "  </thead>\n",
       "  <tbody>\n",
       "    <tr>\n",
       "      <th>2</th>\n",
       "      <td>temp</td>\n",
       "      <td>5.17</td>\n",
       "    </tr>\n",
       "    <tr>\n",
       "      <th>3</th>\n",
       "      <td>windspeed</td>\n",
       "      <td>4.67</td>\n",
       "    </tr>\n",
       "    <tr>\n",
       "      <th>6</th>\n",
       "      <td>winter</td>\n",
       "      <td>2.94</td>\n",
       "    </tr>\n",
       "    <tr>\n",
       "      <th>4</th>\n",
       "      <td>spring</td>\n",
       "      <td>2.89</td>\n",
       "    </tr>\n",
       "    <tr>\n",
       "      <th>5</th>\n",
       "      <td>summer</td>\n",
       "      <td>2.23</td>\n",
       "    </tr>\n",
       "    <tr>\n",
       "      <th>0</th>\n",
       "      <td>yr</td>\n",
       "      <td>2.07</td>\n",
       "    </tr>\n",
       "    <tr>\n",
       "      <th>12</th>\n",
       "      <td>nov</td>\n",
       "      <td>1.80</td>\n",
       "    </tr>\n",
       "    <tr>\n",
       "      <th>10</th>\n",
       "      <td>jan</td>\n",
       "      <td>1.66</td>\n",
       "    </tr>\n",
       "    <tr>\n",
       "      <th>11</th>\n",
       "      <td>jul</td>\n",
       "      <td>1.59</td>\n",
       "    </tr>\n",
       "    <tr>\n",
       "      <th>8</th>\n",
       "      <td>mist</td>\n",
       "      <td>1.56</td>\n",
       "    </tr>\n",
       "    <tr>\n",
       "      <th>9</th>\n",
       "      <td>dec</td>\n",
       "      <td>1.46</td>\n",
       "    </tr>\n",
       "    <tr>\n",
       "      <th>13</th>\n",
       "      <td>sep</td>\n",
       "      <td>1.35</td>\n",
       "    </tr>\n",
       "    <tr>\n",
       "      <th>7</th>\n",
       "      <td>light Rain</td>\n",
       "      <td>1.09</td>\n",
       "    </tr>\n",
       "    <tr>\n",
       "      <th>1</th>\n",
       "      <td>holiday</td>\n",
       "      <td>1.06</td>\n",
       "    </tr>\n",
       "  </tbody>\n",
       "</table>\n",
       "</div>"
      ],
      "text/plain": [
       "      Features   VIF\n",
       "2         temp  5.17\n",
       "3    windspeed  4.67\n",
       "6       winter  2.94\n",
       "4       spring  2.89\n",
       "5       summer  2.23\n",
       "0           yr  2.07\n",
       "12         nov  1.80\n",
       "10         jan  1.66\n",
       "11         jul  1.59\n",
       "8         mist  1.56\n",
       "9          dec  1.46\n",
       "13         sep  1.35\n",
       "7   light Rain  1.09\n",
       "1      holiday  1.06"
      ]
     },
     "execution_count": 70,
     "metadata": {},
     "output_type": "execute_result"
    }
   ],
   "source": [
    "# Add a constant\n",
    "# For train-set\n",
    "X_train_lm2 = sm.add_constant(X_train)\n",
    "\n",
    "# Fitting model\n",
    "fit_lr2=sm.OLS(y_train,X_train_lm2).fit()\n",
    "\n",
    "print(fit_lr2.summary())\n",
    "\n",
    "# Create a dataframe that will contain the names of all the feature variables and their respective VIFs\n",
    "vif = pd.DataFrame()\n",
    "vif['Features'] = X_train.columns\n",
    "vif['VIF'] = [variance_inflation_factor(X_train.values, i) for i in range(X_train.shape[1])]\n",
    "vif['VIF'] = round(vif['VIF'], 2)\n",
    "vif = vif.sort_values(by = \"VIF\", ascending = False)\n",
    "vif"
   ]
  },
  {
   "cell_type": "markdown",
   "id": "b700c8d2",
   "metadata": {},
   "source": [
    "## 3rd Model"
   ]
  },
  {
   "cell_type": "markdown",
   "id": "09acacd7",
   "metadata": {},
   "source": [
    "Dropping the variable 'temp' based on its high VIF"
   ]
  },
  {
   "cell_type": "code",
   "execution_count": 71,
   "id": "3d701734",
   "metadata": {},
   "outputs": [],
   "source": [
    "# For train-set\n",
    "X_train = X_train.drop('temp', 1,)"
   ]
  },
  {
   "cell_type": "code",
   "execution_count": 72,
   "id": "e2180eaa",
   "metadata": {
    "scrolled": false
   },
   "outputs": [
    {
     "name": "stdout",
     "output_type": "stream",
     "text": [
      "                            OLS Regression Results                            \n",
      "==============================================================================\n",
      "Dep. Variable:                    cnt   R-squared:                       0.793\n",
      "Model:                            OLS   Adj. R-squared:                  0.787\n",
      "Method:                 Least Squares   F-statistic:                     145.8\n",
      "Date:                Fri, 12 Aug 2022   Prob (F-statistic):          5.50e-160\n",
      "Time:                        20:20:42   Log-Likelihood:                 439.69\n",
      "No. Observations:                 510   AIC:                            -851.4\n",
      "Df Residuals:                     496   BIC:                            -792.1\n",
      "Df Model:                          13                                         \n",
      "Covariance Type:            nonrobust                                         \n",
      "==============================================================================\n",
      "                 coef    std err          t      P>|t|      [0.025      0.975]\n",
      "------------------------------------------------------------------------------\n",
      "const          0.5961      0.016     37.557      0.000       0.565       0.627\n",
      "yr             0.2454      0.009     26.627      0.000       0.227       0.264\n",
      "holiday       -0.0856      0.030     -2.896      0.004      -0.144      -0.028\n",
      "windspeed     -0.1903      0.029     -6.675      0.000      -0.246      -0.134\n",
      "spring        -0.2503      0.018    -14.146      0.000      -0.285      -0.216\n",
      "summer        -0.0511      0.016     -3.252      0.001      -0.082      -0.020\n",
      "winter        -0.0213      0.018     -1.216      0.225      -0.056       0.013\n",
      "light Rain    -0.3127      0.028    -11.207      0.000      -0.367      -0.258\n",
      "mist          -0.0882      0.010     -8.938      0.000      -0.108      -0.069\n",
      "dec           -0.1100      0.019     -5.752      0.000      -0.148      -0.072\n",
      "jan           -0.1202      0.020     -6.069      0.000      -0.159      -0.081\n",
      "jul           -0.0186      0.021     -0.894      0.372      -0.059       0.022\n",
      "nov           -0.1013      0.021     -4.847      0.000      -0.142      -0.060\n",
      "sep            0.0530      0.019      2.735      0.006       0.015       0.091\n",
      "==============================================================================\n",
      "Omnibus:                       56.767   Durbin-Watson:                   1.933\n",
      "Prob(Omnibus):                  0.000   Jarque-Bera (JB):              135.173\n",
      "Skew:                          -0.589   Prob(JB):                     4.44e-30\n",
      "Kurtosis:                       5.230   Cond. No.                         9.27\n",
      "==============================================================================\n",
      "\n",
      "Notes:\n",
      "[1] Standard Errors assume that the covariance matrix of the errors is correctly specified.\n"
     ]
    },
    {
     "data": {
      "text/html": [
       "<div>\n",
       "<style scoped>\n",
       "    .dataframe tbody tr th:only-of-type {\n",
       "        vertical-align: middle;\n",
       "    }\n",
       "\n",
       "    .dataframe tbody tr th {\n",
       "        vertical-align: top;\n",
       "    }\n",
       "\n",
       "    .dataframe thead th {\n",
       "        text-align: right;\n",
       "    }\n",
       "</style>\n",
       "<table border=\"1\" class=\"dataframe\">\n",
       "  <thead>\n",
       "    <tr style=\"text-align: right;\">\n",
       "      <th></th>\n",
       "      <th>Features</th>\n",
       "      <th>VIF</th>\n",
       "    </tr>\n",
       "  </thead>\n",
       "  <tbody>\n",
       "    <tr>\n",
       "      <th>2</th>\n",
       "      <td>windspeed</td>\n",
       "      <td>3.88</td>\n",
       "    </tr>\n",
       "    <tr>\n",
       "      <th>3</th>\n",
       "      <td>spring</td>\n",
       "      <td>2.89</td>\n",
       "    </tr>\n",
       "    <tr>\n",
       "      <th>5</th>\n",
       "      <td>winter</td>\n",
       "      <td>2.84</td>\n",
       "    </tr>\n",
       "    <tr>\n",
       "      <th>4</th>\n",
       "      <td>summer</td>\n",
       "      <td>2.01</td>\n",
       "    </tr>\n",
       "    <tr>\n",
       "      <th>0</th>\n",
       "      <td>yr</td>\n",
       "      <td>1.83</td>\n",
       "    </tr>\n",
       "    <tr>\n",
       "      <th>11</th>\n",
       "      <td>nov</td>\n",
       "      <td>1.79</td>\n",
       "    </tr>\n",
       "    <tr>\n",
       "      <th>9</th>\n",
       "      <td>jan</td>\n",
       "      <td>1.64</td>\n",
       "    </tr>\n",
       "    <tr>\n",
       "      <th>7</th>\n",
       "      <td>mist</td>\n",
       "      <td>1.52</td>\n",
       "    </tr>\n",
       "    <tr>\n",
       "      <th>8</th>\n",
       "      <td>dec</td>\n",
       "      <td>1.45</td>\n",
       "    </tr>\n",
       "    <tr>\n",
       "      <th>10</th>\n",
       "      <td>jul</td>\n",
       "      <td>1.20</td>\n",
       "    </tr>\n",
       "    <tr>\n",
       "      <th>12</th>\n",
       "      <td>sep</td>\n",
       "      <td>1.18</td>\n",
       "    </tr>\n",
       "    <tr>\n",
       "      <th>6</th>\n",
       "      <td>light Rain</td>\n",
       "      <td>1.09</td>\n",
       "    </tr>\n",
       "    <tr>\n",
       "      <th>1</th>\n",
       "      <td>holiday</td>\n",
       "      <td>1.06</td>\n",
       "    </tr>\n",
       "  </tbody>\n",
       "</table>\n",
       "</div>"
      ],
      "text/plain": [
       "      Features   VIF\n",
       "2    windspeed  3.88\n",
       "3       spring  2.89\n",
       "5       winter  2.84\n",
       "4       summer  2.01\n",
       "0           yr  1.83\n",
       "11         nov  1.79\n",
       "9          jan  1.64\n",
       "7         mist  1.52\n",
       "8          dec  1.45\n",
       "10         jul  1.20\n",
       "12         sep  1.18\n",
       "6   light Rain  1.09\n",
       "1      holiday  1.06"
      ]
     },
     "execution_count": 72,
     "metadata": {},
     "output_type": "execute_result"
    }
   ],
   "source": [
    "# Add a constant\n",
    "# For train-set\n",
    "X_train_lm3 = sm.add_constant(X_train)\n",
    "\n",
    "# Fitting model\n",
    "fit_lr3=sm.OLS(y_train,X_train_lm3).fit()\n",
    "\n",
    "print(fit_lr3.summary())\n",
    "\n",
    "# Create a dataframe that will contain the names of all the feature variables and their respective VIFs\n",
    "vif = pd.DataFrame()\n",
    "vif['Features'] = X_train.columns\n",
    "vif['VIF'] = [variance_inflation_factor(X_train.values, i) for i in range(X_train.shape[1])]\n",
    "vif['VIF'] = round(vif['VIF'], 2)\n",
    "vif = vif.sort_values(by = \"VIF\", ascending = False)\n",
    "vif"
   ]
  },
  {
   "cell_type": "markdown",
   "id": "ea5bde28",
   "metadata": {},
   "source": [
    "## 4th Model"
   ]
  },
  {
   "cell_type": "markdown",
   "id": "f2c8351a",
   "metadata": {},
   "source": [
    "Dropping the variable 'jul' based on its high p-value"
   ]
  },
  {
   "cell_type": "code",
   "execution_count": 73,
   "id": "d59e2e99",
   "metadata": {},
   "outputs": [],
   "source": [
    "# For train-set\n",
    "X_train = X_train.drop('jul', 1,)"
   ]
  },
  {
   "cell_type": "code",
   "execution_count": 74,
   "id": "885913a4",
   "metadata": {
    "scrolled": false
   },
   "outputs": [
    {
     "name": "stdout",
     "output_type": "stream",
     "text": [
      "                            OLS Regression Results                            \n",
      "==============================================================================\n",
      "Dep. Variable:                    cnt   R-squared:                       0.792\n",
      "Model:                            OLS   Adj. R-squared:                  0.787\n",
      "Method:                 Least Squares   F-statistic:                     158.0\n",
      "Date:                Fri, 12 Aug 2022   Prob (F-statistic):          6.36e-161\n",
      "Time:                        20:20:42   Log-Likelihood:                 439.28\n",
      "No. Observations:                 510   AIC:                            -852.6\n",
      "Df Residuals:                     497   BIC:                            -797.5\n",
      "Df Model:                          12                                         \n",
      "Covariance Type:            nonrobust                                         \n",
      "==============================================================================\n",
      "                 coef    std err          t      P>|t|      [0.025      0.975]\n",
      "------------------------------------------------------------------------------\n",
      "const          0.5892      0.014     42.571      0.000       0.562       0.616\n",
      "yr             0.2455      0.009     26.644      0.000       0.227       0.264\n",
      "holiday       -0.0853      0.030     -2.886      0.004      -0.143      -0.027\n",
      "windspeed     -0.1902      0.029     -6.671      0.000      -0.246      -0.134\n",
      "spring        -0.2437      0.016    -15.140      0.000      -0.275      -0.212\n",
      "summer        -0.0445      0.014     -3.210      0.001      -0.072      -0.017\n",
      "winter        -0.0155      0.016     -0.951      0.342      -0.047       0.016\n",
      "light Rain    -0.3128      0.028    -11.213      0.000      -0.368      -0.258\n",
      "mist          -0.0876      0.010     -8.899      0.000      -0.107      -0.068\n",
      "dec           -0.1094      0.019     -5.727      0.000      -0.147      -0.072\n",
      "jan           -0.1202      0.020     -6.070      0.000      -0.159      -0.081\n",
      "nov           -0.1006      0.021     -4.814      0.000      -0.142      -0.060\n",
      "sep            0.0583      0.018      3.162      0.002       0.022       0.095\n",
      "==============================================================================\n",
      "Omnibus:                       56.910   Durbin-Watson:                   1.943\n",
      "Prob(Omnibus):                  0.000   Jarque-Bera (JB):              134.384\n",
      "Skew:                          -0.593   Prob(JB):                     6.59e-30\n",
      "Kurtosis:                       5.218   Cond. No.                         8.93\n",
      "==============================================================================\n",
      "\n",
      "Notes:\n",
      "[1] Standard Errors assume that the covariance matrix of the errors is correctly specified.\n"
     ]
    },
    {
     "data": {
      "text/html": [
       "<div>\n",
       "<style scoped>\n",
       "    .dataframe tbody tr th:only-of-type {\n",
       "        vertical-align: middle;\n",
       "    }\n",
       "\n",
       "    .dataframe tbody tr th {\n",
       "        vertical-align: top;\n",
       "    }\n",
       "\n",
       "    .dataframe thead th {\n",
       "        text-align: right;\n",
       "    }\n",
       "</style>\n",
       "<table border=\"1\" class=\"dataframe\">\n",
       "  <thead>\n",
       "    <tr style=\"text-align: right;\">\n",
       "      <th></th>\n",
       "      <th>Features</th>\n",
       "      <th>VIF</th>\n",
       "    </tr>\n",
       "  </thead>\n",
       "  <tbody>\n",
       "    <tr>\n",
       "      <th>2</th>\n",
       "      <td>windspeed</td>\n",
       "      <td>3.52</td>\n",
       "    </tr>\n",
       "    <tr>\n",
       "      <th>5</th>\n",
       "      <td>winter</td>\n",
       "      <td>2.74</td>\n",
       "    </tr>\n",
       "    <tr>\n",
       "      <th>3</th>\n",
       "      <td>spring</td>\n",
       "      <td>2.71</td>\n",
       "    </tr>\n",
       "    <tr>\n",
       "      <th>4</th>\n",
       "      <td>summer</td>\n",
       "      <td>1.86</td>\n",
       "    </tr>\n",
       "    <tr>\n",
       "      <th>10</th>\n",
       "      <td>nov</td>\n",
       "      <td>1.79</td>\n",
       "    </tr>\n",
       "    <tr>\n",
       "      <th>0</th>\n",
       "      <td>yr</td>\n",
       "      <td>1.77</td>\n",
       "    </tr>\n",
       "    <tr>\n",
       "      <th>9</th>\n",
       "      <td>jan</td>\n",
       "      <td>1.64</td>\n",
       "    </tr>\n",
       "    <tr>\n",
       "      <th>7</th>\n",
       "      <td>mist</td>\n",
       "      <td>1.52</td>\n",
       "    </tr>\n",
       "    <tr>\n",
       "      <th>8</th>\n",
       "      <td>dec</td>\n",
       "      <td>1.45</td>\n",
       "    </tr>\n",
       "    <tr>\n",
       "      <th>11</th>\n",
       "      <td>sep</td>\n",
       "      <td>1.16</td>\n",
       "    </tr>\n",
       "    <tr>\n",
       "      <th>6</th>\n",
       "      <td>light Rain</td>\n",
       "      <td>1.09</td>\n",
       "    </tr>\n",
       "    <tr>\n",
       "      <th>1</th>\n",
       "      <td>holiday</td>\n",
       "      <td>1.06</td>\n",
       "    </tr>\n",
       "  </tbody>\n",
       "</table>\n",
       "</div>"
      ],
      "text/plain": [
       "      Features   VIF\n",
       "2    windspeed  3.52\n",
       "5       winter  2.74\n",
       "3       spring  2.71\n",
       "4       summer  1.86\n",
       "10         nov  1.79\n",
       "0           yr  1.77\n",
       "9          jan  1.64\n",
       "7         mist  1.52\n",
       "8          dec  1.45\n",
       "11         sep  1.16\n",
       "6   light Rain  1.09\n",
       "1      holiday  1.06"
      ]
     },
     "execution_count": 74,
     "metadata": {},
     "output_type": "execute_result"
    }
   ],
   "source": [
    "# Add a constant\n",
    "# For train-set\n",
    "X_train_lm4 = sm.add_constant(X_train)\n",
    "\n",
    "# Fitting model\n",
    "fit_lr4=sm.OLS(y_train,X_train_lm4).fit()\n",
    "\n",
    "print(fit_lr4.summary())\n",
    "\n",
    "# Create a dataframe that will contain the names of all the feature variables and their respective VIFs\n",
    "vif = pd.DataFrame()\n",
    "vif['Features'] = X_train.columns\n",
    "vif['VIF'] = [variance_inflation_factor(X_train.values, i) for i in range(X_train.shape[1])]\n",
    "vif['VIF'] = round(vif['VIF'], 2)\n",
    "vif = vif.sort_values(by = \"VIF\", ascending = False)\n",
    "vif"
   ]
  },
  {
   "cell_type": "markdown",
   "id": "49eaad6c",
   "metadata": {},
   "source": [
    "##  5th Model"
   ]
  },
  {
   "cell_type": "markdown",
   "id": "7d305b4c",
   "metadata": {},
   "source": [
    "Dropping the variable 'winter' based on its high p-value"
   ]
  },
  {
   "cell_type": "code",
   "execution_count": 75,
   "id": "433d60ed",
   "metadata": {},
   "outputs": [],
   "source": [
    "# For train-set\n",
    "X_train = X_train.drop('winter', 1,)"
   ]
  },
  {
   "cell_type": "code",
   "execution_count": 76,
   "id": "a59999f3",
   "metadata": {
    "scrolled": false
   },
   "outputs": [
    {
     "name": "stdout",
     "output_type": "stream",
     "text": [
      "                            OLS Regression Results                            \n",
      "==============================================================================\n",
      "Dep. Variable:                    cnt   R-squared:                       0.792\n",
      "Model:                            OLS   Adj. R-squared:                  0.787\n",
      "Method:                 Least Squares   F-statistic:                     172.3\n",
      "Date:                Fri, 12 Aug 2022   Prob (F-statistic):          7.42e-162\n",
      "Time:                        20:20:42   Log-Likelihood:                 438.82\n",
      "No. Observations:                 510   AIC:                            -853.6\n",
      "Df Residuals:                     498   BIC:                            -802.8\n",
      "Df Model:                          11                                         \n",
      "Covariance Type:            nonrobust                                         \n",
      "==============================================================================\n",
      "                 coef    std err          t      P>|t|      [0.025      0.975]\n",
      "------------------------------------------------------------------------------\n",
      "const          0.5845      0.013     45.172      0.000       0.559       0.610\n",
      "yr             0.2456      0.009     26.656      0.000       0.228       0.264\n",
      "holiday       -0.0855      0.030     -2.892      0.004      -0.144      -0.027\n",
      "windspeed     -0.1910      0.028     -6.706      0.000      -0.247      -0.135\n",
      "spring        -0.2372      0.015    -16.294      0.000      -0.266      -0.209\n",
      "summer        -0.0392      0.013     -3.087      0.002      -0.064      -0.014\n",
      "light Rain    -0.3160      0.028    -11.416      0.000      -0.370      -0.262\n",
      "mist          -0.0884      0.010     -9.008      0.000      -0.108      -0.069\n",
      "dec           -0.1169      0.017     -6.725      0.000      -0.151      -0.083\n",
      "jan           -0.1215      0.020     -6.150      0.000      -0.160      -0.083\n",
      "nov           -0.1107      0.018     -6.167      0.000      -0.146      -0.075\n",
      "sep            0.0602      0.018      3.287      0.001       0.024       0.096\n",
      "==============================================================================\n",
      "Omnibus:                       60.373   Durbin-Watson:                   1.936\n",
      "Prob(Omnibus):                  0.000   Jarque-Bera (JB):              147.031\n",
      "Skew:                          -0.617   Prob(JB):                     1.18e-32\n",
      "Kurtosis:                       5.323   Cond. No.                         8.78\n",
      "==============================================================================\n",
      "\n",
      "Notes:\n",
      "[1] Standard Errors assume that the covariance matrix of the errors is correctly specified.\n"
     ]
    },
    {
     "data": {
      "text/html": [
       "<div>\n",
       "<style scoped>\n",
       "    .dataframe tbody tr th:only-of-type {\n",
       "        vertical-align: middle;\n",
       "    }\n",
       "\n",
       "    .dataframe tbody tr th {\n",
       "        vertical-align: top;\n",
       "    }\n",
       "\n",
       "    .dataframe thead th {\n",
       "        text-align: right;\n",
       "    }\n",
       "</style>\n",
       "<table border=\"1\" class=\"dataframe\">\n",
       "  <thead>\n",
       "    <tr style=\"text-align: right;\">\n",
       "      <th></th>\n",
       "      <th>Features</th>\n",
       "      <th>VIF</th>\n",
       "    </tr>\n",
       "  </thead>\n",
       "  <tbody>\n",
       "    <tr>\n",
       "      <th>2</th>\n",
       "      <td>windspeed</td>\n",
       "      <td>3.22</td>\n",
       "    </tr>\n",
       "    <tr>\n",
       "      <th>3</th>\n",
       "      <td>spring</td>\n",
       "      <td>2.36</td>\n",
       "    </tr>\n",
       "    <tr>\n",
       "      <th>0</th>\n",
       "      <td>yr</td>\n",
       "      <td>1.74</td>\n",
       "    </tr>\n",
       "    <tr>\n",
       "      <th>4</th>\n",
       "      <td>summer</td>\n",
       "      <td>1.69</td>\n",
       "    </tr>\n",
       "    <tr>\n",
       "      <th>8</th>\n",
       "      <td>jan</td>\n",
       "      <td>1.62</td>\n",
       "    </tr>\n",
       "    <tr>\n",
       "      <th>6</th>\n",
       "      <td>mist</td>\n",
       "      <td>1.47</td>\n",
       "    </tr>\n",
       "    <tr>\n",
       "      <th>9</th>\n",
       "      <td>nov</td>\n",
       "      <td>1.23</td>\n",
       "    </tr>\n",
       "    <tr>\n",
       "      <th>10</th>\n",
       "      <td>sep</td>\n",
       "      <td>1.16</td>\n",
       "    </tr>\n",
       "    <tr>\n",
       "      <th>7</th>\n",
       "      <td>dec</td>\n",
       "      <td>1.13</td>\n",
       "    </tr>\n",
       "    <tr>\n",
       "      <th>1</th>\n",
       "      <td>holiday</td>\n",
       "      <td>1.06</td>\n",
       "    </tr>\n",
       "    <tr>\n",
       "      <th>5</th>\n",
       "      <td>light Rain</td>\n",
       "      <td>1.06</td>\n",
       "    </tr>\n",
       "  </tbody>\n",
       "</table>\n",
       "</div>"
      ],
      "text/plain": [
       "      Features   VIF\n",
       "2    windspeed  3.22\n",
       "3       spring  2.36\n",
       "0           yr  1.74\n",
       "4       summer  1.69\n",
       "8          jan  1.62\n",
       "6         mist  1.47\n",
       "9          nov  1.23\n",
       "10         sep  1.16\n",
       "7          dec  1.13\n",
       "1      holiday  1.06\n",
       "5   light Rain  1.06"
      ]
     },
     "execution_count": 76,
     "metadata": {},
     "output_type": "execute_result"
    }
   ],
   "source": [
    "# Add a constant\n",
    "# For train-set\n",
    "X_train_lm5 = sm.add_constant(X_train)\n",
    "\n",
    "# Fitting model\n",
    "fit_lr5=sm.OLS(y_train,X_train_lm5).fit()\n",
    "\n",
    "print(fit_lr5.summary())\n",
    "\n",
    "# Create a dataframe that will contain the names of all the feature variables and their respective VIFs\n",
    "vif = pd.DataFrame()\n",
    "vif['Features'] = X_train.columns\n",
    "vif['VIF'] = [variance_inflation_factor(X_train.values, i) for i in range(X_train.shape[1])]\n",
    "vif['VIF'] = round(vif['VIF'], 2)\n",
    "vif = vif.sort_values(by = \"VIF\", ascending = False)\n",
    "vif"
   ]
  },
  {
   "cell_type": "markdown",
   "id": "712ce9fb",
   "metadata": {},
   "source": [
    "This model is Significant as per below observations\n",
    "   - All the p-values are less than 0.05\n",
    "   - All the VIF values is less than 5\n",
    "   - R square value is 0.792 \n",
    "   - Adjusted R square value is 0.787 \n",
    " \n",
    " \n",
    " So that we can conclude this is our final model."
   ]
  },
  {
   "cell_type": "markdown",
   "id": "f9874158",
   "metadata": {},
   "source": [
    "# Step 8: Residual Analysis of the train data"
   ]
  },
  {
   "cell_type": "markdown",
   "id": "b0fd445a",
   "metadata": {},
   "source": [
    "To check if the error terms are normally distributed (which is infact, one of the major assumptions of linear regression), let us plot the histogram of the error terms and see how it looks like."
   ]
  },
  {
   "cell_type": "code",
   "execution_count": 77,
   "id": "35daf8bb",
   "metadata": {},
   "outputs": [],
   "source": [
    "y_train_pred = fit_lr5.predict(X_train_lm5)"
   ]
  },
  {
   "cell_type": "code",
   "execution_count": 78,
   "id": "1b292977",
   "metadata": {},
   "outputs": [
    {
     "data": {
      "text/plain": [
       "Text(0.5, 0, 'Errors')"
      ]
     },
     "execution_count": 78,
     "metadata": {},
     "output_type": "execute_result"
    },
    {
     "data": {
      "image/png": "[encoded data removed]",
      "text/plain": [
       "<Figure size 432x288 with 1 Axes>"
      ]
     },
     "metadata": {
      "needs_background": "light"
     },
     "output_type": "display_data"
    }
   ],
   "source": [
    "res=y_train-y_train_pred\n",
    "# Plot the histogram of the error terms\n",
    "fig = plt.figure()\n",
    "sns.distplot((res), bins = 15)\n",
    "fig.suptitle('Error Terms', fontsize = 20)                  # Plot heading \n",
    "plt.xlabel('Errors', fontsize = 18)                         # X-label"
   ]
  },
  {
   "cell_type": "markdown",
   "id": "ba08b09e",
   "metadata": {},
   "source": [
    "Insights\n",
    "- From the above histogram, we could see that the Residuals are normally distributed. Hence our assumption for Linear Regression is valid."
   ]
  },
  {
   "cell_type": "markdown",
   "id": "407e2fd6",
   "metadata": {},
   "source": [
    "# Step 9: Making Predictions Using the Final Model"
   ]
  },
  {
   "cell_type": "code",
   "execution_count": 79,
   "id": "5830e54d",
   "metadata": {},
   "outputs": [
    {
     "name": "stdout",
     "output_type": "stream",
     "text": [
      "<class 'pandas.core.frame.DataFrame'>\n",
      "Int64Index: 219 entries, 184 to 72\n",
      "Data columns (total 12 columns):\n",
      " #   Column      Non-Null Count  Dtype  \n",
      "---  ------      --------------  -----  \n",
      " 0   const       219 non-null    float64\n",
      " 1   yr          219 non-null    int64  \n",
      " 2   holiday     219 non-null    int64  \n",
      " 3   windspeed   219 non-null    float64\n",
      " 4   spring      219 non-null    uint8  \n",
      " 5   summer      219 non-null    uint8  \n",
      " 6   light Rain  219 non-null    uint8  \n",
      " 7   mist        219 non-null    uint8  \n",
      " 8   dec         219 non-null    uint8  \n",
      " 9   jan         219 non-null    uint8  \n",
      " 10  nov         219 non-null    uint8  \n",
      " 11  sep         219 non-null    uint8  \n",
      "dtypes: float64(2), int64(2), uint8(8)\n",
      "memory usage: 10.3 KB\n"
     ]
    }
   ],
   "source": [
    "# Selecting the variables which are part of final model.\n",
    "col=X_train.columns\n",
    "\n",
    "X_test=X_test[col]\n",
    "\n",
    "# Adding constant variable to test dataframe\n",
    "X_test_lm5 = sm.add_constant(X_test)\n",
    "X_test_lm5.info()"
   ]
  },
  {
   "cell_type": "code",
   "execution_count": 80,
   "id": "b8648637",
   "metadata": {},
   "outputs": [],
   "source": [
    "# Making predictions using the final model \n",
    "\n",
    "y_pred = fit_lr5.predict(X_test_lm5)"
   ]
  },
  {
   "cell_type": "markdown",
   "id": "a071df61",
   "metadata": {},
   "source": [
    "## Step 10: Model Evaluation"
   ]
  },
  {
   "cell_type": "code",
   "execution_count": 81,
   "id": "f0a03248",
   "metadata": {},
   "outputs": [
    {
     "data": {
      "image/png": "[encoded data removed]",
      "text/plain": [
       "<Figure size 432x288 with 1 Axes>"
      ]
     },
     "metadata": {
      "needs_background": "light"
     },
     "output_type": "display_data"
    }
   ],
   "source": [
    "# Plotting y_test and y_pred to understand the spread\n",
    "\n",
    "fig = plt.figure()\n",
    "plt.scatter(y_test, y_pred, alpha=.5)\n",
    "fig.suptitle('y_test vs y_pred', fontsize = 20)              # Plot heading \n",
    "plt.xlabel('y_test', fontsize = 18)                          # X-label\n",
    "plt.ylabel('y_pred', fontsize = 16) \n",
    "plt.show()"
   ]
  },
  {
   "cell_type": "markdown",
   "id": "d05ea8e7",
   "metadata": {},
   "source": [
    "We can see that the equation of our best fitted line is:\n",
    "\n",
    "cnt = 0.584533 + (0.245612 * yr) - (0.085483 * holiday) - (0.191011 * windspeed) - (0.237205 * spring) - (0.039231 * light Rain) - (0.088378 * mist) - (0.116926 * dec) - (0.121489 * jan) - (0.110706 * nov) + (0.060224 * sep) \n"
   ]
  },
  {
   "cell_type": "markdown",
   "id": "23422816",
   "metadata": {},
   "source": [
    "## R^2 Value for TEST"
   ]
  },
  {
   "cell_type": "code",
   "execution_count": 82,
   "id": "3d067fe7",
   "metadata": {},
   "outputs": [
    {
     "data": {
      "text/plain": [
       "0.7581903528696503"
      ]
     },
     "execution_count": 82,
     "metadata": {},
     "output_type": "execute_result"
    }
   ],
   "source": [
    "from sklearn.metrics import r2_score\n",
    "r2_score(y_test, y_pred)"
   ]
  },
  {
   "cell_type": "markdown",
   "id": "aa2f685f",
   "metadata": {},
   "source": [
    "- We got R_sqaure value for test set is 0.7581 which is near to trained set R_sqaure Value which is 0.792 Hence Model fits great"
   ]
  },
  {
   "cell_type": "markdown",
   "id": "4345ea65",
   "metadata": {},
   "source": [
    "#### Conclusion : The features which mentioned below are the top 3 features contributing significantly towards explaining the demand of the shared bikes –\n",
    "- yr\n",
    "- sep\n",
    "- rain fall\n"
   ]
  },
  {
   "cell_type": "code",
   "execution_count": null,
   "id": "c4a21c20",
   "metadata": {},
   "outputs": [],
   "source": []
  }
 ],
 "metadata": {
  "kernelspec": {
   "display_name": "Python 3 (ipykernel)",
   "language": "python",
   "name": "python3"
  },
  "language_info": {
   "codemirror_mode": {
    "name": "ipython",
    "version": 3
   },
   "file_extension": ".py",
   "mimetype": "text/x-python",
   "name": "python",
   "nbconvert_exporter": "python",
   "pygments_lexer": "ipython3",
   "version": "3.9.7"
  }
 },
 "nbformat": 4,
 "nbformat_minor": 5
}
